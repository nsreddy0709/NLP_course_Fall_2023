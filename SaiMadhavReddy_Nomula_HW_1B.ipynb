{
  "cells": [
    {
      "cell_type": "code",
      "execution_count": 1,
      "metadata": {
        "colab": {
          "base_uri": "https://localhost:8080/"
        },
        "execution": {
          "iopub.execute_input": "2023-08-23T00:26:48.606255Z",
          "iopub.status.busy": "2023-08-23T00:26:48.605951Z",
          "iopub.status.idle": "2023-08-23T00:26:49.073359Z",
          "shell.execute_reply": "2023-08-23T00:26:49.072413Z",
          "shell.execute_reply.started": "2023-08-23T00:26:48.606229Z"
        },
        "id": "aPva0yVbvk0x",
        "outputId": "293e85dd-5942-4f1e-df17-9b586c232a92"
      },
      "outputs": [
        {
          "output_type": "stream",
          "name": "stdout",
          "text": [
            "Fri Sep  1 16:39:42 2023       \n",
            "+-----------------------------------------------------------------------------+\n",
            "| NVIDIA-SMI 525.105.17   Driver Version: 525.105.17   CUDA Version: 12.0     |\n",
            "|-------------------------------+----------------------+----------------------+\n",
            "| GPU  Name        Persistence-M| Bus-Id        Disp.A | Volatile Uncorr. ECC |\n",
            "| Fan  Temp  Perf  Pwr:Usage/Cap|         Memory-Usage | GPU-Util  Compute M. |\n",
            "|                               |                      |               MIG M. |\n",
            "|===============================+======================+======================|\n",
            "|   0  Tesla T4            Off  | 00000000:00:04.0 Off |                    0 |\n",
            "| N/A   36C    P8    10W /  70W |      0MiB / 15360MiB |      0%      Default |\n",
            "|                               |                      |                  N/A |\n",
            "+-------------------------------+----------------------+----------------------+\n",
            "                                                                               \n",
            "+-----------------------------------------------------------------------------+\n",
            "| Processes:                                                                  |\n",
            "|  GPU   GI   CI        PID   Type   Process name                  GPU Memory |\n",
            "|        ID   ID                                                   Usage      |\n",
            "|=============================================================================|\n",
            "|  No running processes found                                                 |\n",
            "+-----------------------------------------------------------------------------+\n"
          ]
        }
      ],
      "source": [
        "!nvidia-smi"
      ]
    },
    {
      "cell_type": "markdown",
      "metadata": {
        "id": "3cfCXWzzuZKE"
      },
      "source": [
        "# <Font color = 'dodgerblue'>**HW1-part-B-ZeroShot Classification- 8 Points**\n",
        "- **You have to submit two files for this part of the HW**\n",
        "  >(1) ipynb (colab notebook) and<br>\n",
        "  >(2) pdf file (pdf version of the colab file).**\n",
        "- **Files should be named as follows**:\n",
        ">FirstName_LastName_HW_1B**"
      ]
    },
    {
      "cell_type": "markdown",
      "metadata": {
        "id": "rh2s542civAU"
      },
      "source": [
        "# <Font color = 'dodgerblue'>**Question: Zero Shot Classification using Huggingface Pipeline  - 8 Points.**\n",
        "\n",
        "This task involves practical application of zero-shot classification to categorize restaurant review sentences. By leveraging a pre-trained model , students will gain hands-on experience in utilizing natural language inference techniques for text classification.\n",
        "\n",
        "\n"
      ]
    },
    {
      "cell_type": "markdown",
      "metadata": {
        "id": "b514c073-e3b2-46db-a198-ba1c5fa3d15f"
      },
      "source": [
        "# <Font color = 'dodgerblue'>**Zero Shot Classification - Brief Overview** </font>\n",
        "\n",
        "### Introduction to Natural Language Inference (NLI)\n",
        "\n",
        "Natural Language Inference (NLI) is a task in natural language processing where a model determines the relationship between two sentences, often referred to as the premise and the hypothesis. The relationship might be **entailment (the hypothesis follows from the premise)**, contradiction, or neutrality.\n",
        "\n",
        "### Zero-Shot Classification Using Hugging Face's Pipeline\n",
        "\n",
        "Building on NLI, Hugging Face's zero-shot classification leverages entailment (hypotheses follows from the premise) relationships to classify text into various categories.\n",
        "\n",
        "1. **Premise:** The input text, like a restaurant review.\n",
        "\n",
        "2. **Labels**:<br>\n",
        "Possible labels (categories) represent distinct classifications within a given problem. In the context of the review dataset that you will be working with, the possible labels correspond to specific aspects of a dining experience. The labels include: 'food,' referring to the quality and taste of the dishes; 'ambiance,' reflecting the overall atmosphere and decor of the restaurant; 'service,' pertaining to the staff's attentiveness and professionalism; and 'other,' a category that encompasses any additional comments or observations not covered by the aforementioned labels.\n",
        "\n",
        "3. **Hypothesis Template:**<br>\n",
        "A specially formatted string that transforms each label into an NLI-style hypothesis. An example of hypothesis template could be **\"This example is {}.\"**. The {} is a placeholder where the candidate label is inserted, allowing the model to consider each label as a potential classification.\n",
        "\n",
        "3. **Forming Hypotheses using template and labels:**<br>\n",
        "Based on the label examples and hypothesis template, the resulting hypotheses will be:\n",
        "   - \"This example is food.\"\n",
        "   - \"This example is ambiance.\"\n",
        "   - \"This example is service.\"\n",
        "   - \"This example is other.\"\n",
        "\n",
        "4. **Zero-Shot Classification Process:**\n",
        "   - **Step 1:** Combine premise and hypotheses.\n",
        "   - **Step 2:** Utilize a pre-trained NLI model to calculate entailment probabilities (probability that hypothesis follows from premise) for each hypothesis.\n",
        "   - **Step 3:** Return the probabilities for each label.\n",
        "\n",
        "### Example\n",
        "\n",
        "Given a review like \"The food was excellent,\" the model might return:\n",
        "   - food: 0.95\n",
        "   - ambiance: 0.05\n",
        "   - service: 0.02\n",
        "   - other: 0.023\n",
        "\n",
        "**The probability of 0.95 for the label \"food\" means that the model has a 95% confidence that the premise \"The food was excellent\" entails the hypothesis \"This example is food.\"**  The other probabilities represent the model's confidence for the remaining labels.\n",
        "\n",
        "### Conclusion\n",
        "\n",
        "Hugging Face's zero-shot classification pipeline calculates probabilities for multiple categories by leveraging NLI concepts. This approach offers flexibility in text analysis without the need for task-specific training, providing insights into the relevance of different labels to a given text.\n",
        "\n",
        "\n"
      ]
    },
    {
      "cell_type": "markdown",
      "source": [
        "# <Font color = 'dodgerblue'>**Data and Task Description**\n",
        "\n",
        "- For this Question, you are provided a csv file (review_sentences.csv) that has 584 sentences from restautant reviews from Yelp. You have to classify the sentences in to four labels: `[\"food,\" \"ambiance,\" \"service,\" and \"other.\"]`.\n",
        "- The csv file is availble in eLearning in 0_Data folder.\n",
        "- You will use a zero-shot-classification pipleine from huggingface to make predictions.\n",
        "- You are also provided the actual labels. You will use these labels to access the accuracy of the model."
      ],
      "metadata": {
        "id": "qYn8mf9mpl_G"
      }
    },
    {
      "cell_type": "markdown",
      "metadata": {
        "id": "12773301-f940-4545-ac8e-8545ed6c964b"
      },
      "source": [
        "# <font color = 'indian red'> **Install/Import Modules**"
      ]
    },
    {
      "cell_type": "code",
      "execution_count": 2,
      "metadata": {
        "execution": {
          "iopub.execute_input": "2022-09-25T17:30:13.094523Z",
          "iopub.status.busy": "2022-09-25T17:30:13.094325Z",
          "iopub.status.idle": "2022-09-25T17:30:13.097566Z",
          "shell.execute_reply": "2022-09-25T17:30:13.096998Z",
          "shell.execute_reply.started": "2022-09-25T17:30:13.094509Z"
        },
        "id": "96a03b3c-53a5-4478-b864-e8a735f1f614",
        "tags": [],
        "colab": {
          "base_uri": "https://localhost:8080/"
        },
        "outputId": "42ef13f6-9241-4203-8ff4-4ac6fad7e831"
      },
      "outputs": [
        {
          "output_type": "stream",
          "name": "stdout",
          "text": [
            "\u001b[2K     \u001b[90m━━━━━━━━━━━━━━━━━━━━━━━━━━━━━━━━━━━━━━━━\u001b[0m \u001b[32m7.5/7.5 MB\u001b[0m \u001b[31m14.3 MB/s\u001b[0m eta \u001b[36m0:00:00\u001b[0m\n",
            "\u001b[2K     \u001b[90m━━━━━━━━━━━━━━━━━━━━━━━━━━━━━━━━━━━━━━\u001b[0m \u001b[32m268.8/268.8 kB\u001b[0m \u001b[31m26.3 MB/s\u001b[0m eta \u001b[36m0:00:00\u001b[0m\n",
            "\u001b[2K     \u001b[90m━━━━━━━━━━━━━━━━━━━━━━━━━━━━━━━━━━━━━━━━\u001b[0m \u001b[32m7.8/7.8 MB\u001b[0m \u001b[31m36.6 MB/s\u001b[0m eta \u001b[36m0:00:00\u001b[0m\n",
            "\u001b[2K     \u001b[90m━━━━━━━━━━━━━━━━━━━━━━━━━━━━━━━━━━━━━━━━\u001b[0m \u001b[32m1.3/1.3 MB\u001b[0m \u001b[31m47.8 MB/s\u001b[0m eta \u001b[36m0:00:00\u001b[0m\n",
            "\u001b[2K     \u001b[90m━━━━━━━━━━━━━━━━━━━━━━━━━━━━━━━━━━━━━━━━\u001b[0m \u001b[32m1.3/1.3 MB\u001b[0m \u001b[31m9.8 MB/s\u001b[0m eta \u001b[36m0:00:00\u001b[0m\n",
            "\u001b[?25h"
          ]
        }
      ],
      "source": [
        "if 'google.colab' in str(get_ipython()):\n",
        "    !pip install transformers -U -qq\n",
        "    !pip install sentencepiece -U -qq"
      ]
    },
    {
      "cell_type": "code",
      "execution_count": 3,
      "metadata": {
        "execution": {
          "iopub.execute_input": "2022-09-25T17:30:19.802075Z",
          "iopub.status.busy": "2022-09-25T17:30:19.801789Z",
          "iopub.status.idle": "2022-09-25T17:30:19.804799Z",
          "shell.execute_reply": "2022-09-25T17:30:19.804440Z",
          "shell.execute_reply.started": "2022-09-25T17:30:19.802059Z"
        },
        "id": "7a9a863b-d87c-4df6-bdf3-b30aa695f846",
        "tags": [],
        "colab": {
          "base_uri": "https://localhost:8080/"
        },
        "outputId": "2416144b-8e93-4ac2-a479-b23b87f043c2"
      },
      "outputs": [
        {
          "output_type": "execute_result",
          "data": {
            "text/plain": [
              "True"
            ]
          },
          "metadata": {},
          "execution_count": 3
        }
      ],
      "source": [
        "# Import the pandas library for data manipulation and analysis\n",
        "import pandas as pd\n",
        "\n",
        "# Import the numpy library for numerical computing\n",
        "import numpy as np\n",
        "\n",
        "# Import the Matplotlib library for creating visualizations such as plots, graphs, etc.\n",
        "import matplotlib.pyplot as plt\n",
        "\n",
        "# Import the pathlib library for working with file paths in a way that is cross-platform\n",
        "from pathlib import Path\n",
        "\n",
        "# Import functions for metrics computation like confusion matrix, and accuracy\n",
        "from sklearn.metrics import confusion_matrix, ConfusionMatrixDisplay, accuracy_score, classification_report\n",
        "\n",
        "# Import the transformers library for state-of-the-art Natural Language Processing (NLP) models like BERT, GPT, etc.\n",
        "from transformers import pipeline\n",
        "import torch\n",
        "torch.cuda.is_available()"
      ]
    },
    {
      "cell_type": "code",
      "source": [
        "torch.cuda.current_device()"
      ],
      "metadata": {
        "colab": {
          "base_uri": "https://localhost:8080/"
        },
        "id": "5F9_4Jjj2ioP",
        "outputId": "51261708-34bc-40c5-e631-41b51b83549e"
      },
      "execution_count": null,
      "outputs": [
        {
          "output_type": "execute_result",
          "data": {
            "text/plain": [
              "0"
            ]
          },
          "metadata": {},
          "execution_count": 4
        }
      ]
    },
    {
      "cell_type": "code",
      "execution_count": 4,
      "metadata": {
        "colab": {
          "base_uri": "https://localhost:8080/"
        },
        "id": "hS8jehl6menq",
        "outputId": "69879aae-9aa9-47b9-e055-a9cd88ad33c5"
      },
      "outputs": [
        {
          "output_type": "stream",
          "name": "stdout",
          "text": [
            "Name: transformers\n",
            "Version: 4.32.1\n",
            "Summary: State-of-the-art Machine Learning for JAX, PyTorch and TensorFlow\n",
            "Home-page: https://github.com/huggingface/transformers\n",
            "Author: The Hugging Face team (past and future) with the help of all our contributors (https://github.com/huggingface/transformers/graphs/contributors)\n",
            "Author-email: transformers@huggingface.co\n",
            "License: Apache 2.0 License\n",
            "Location: /usr/local/lib/python3.10/dist-packages\n",
            "Requires: filelock, huggingface-hub, numpy, packaging, pyyaml, regex, requests, safetensors, tokenizers, tqdm\n",
            "Required-by: \n"
          ]
        }
      ],
      "source": [
        "!pip show transformers"
      ]
    },
    {
      "cell_type": "markdown",
      "metadata": {
        "id": "a43e7e8e-42fb-48bb-92ee-7664bba37482"
      },
      "source": [
        "# <font color = 'indian red'>**Specify Base folder for Project**"
      ]
    },
    {
      "cell_type": "code",
      "execution_count": null,
      "metadata": {
        "execution": {
          "iopub.execute_input": "2022-09-24T20:52:39.665944Z",
          "iopub.status.busy": "2022-09-24T20:52:39.665715Z",
          "iopub.status.idle": "2022-09-24T20:52:39.688510Z",
          "shell.execute_reply": "2022-09-24T20:52:39.687856Z",
          "shell.execute_reply.started": "2022-09-24T20:52:39.665930Z"
        },
        "id": "46473c1e-a70c-4f30-b0b4-baafcfc9dccf",
        "tags": [],
        "colab": {
          "base_uri": "https://localhost:8080/"
        },
        "outputId": "ea92fdcb-0684-4d13-ee42-457226407bd1"
      },
      "outputs": [
        {
          "output_type": "stream",
          "name": "stdout",
          "text": [
            "Drive already mounted at /content/drive; to attempt to forcibly remount, call drive.mount(\"/content/drive\", force_remount=True).\n"
          ]
        }
      ],
      "source": [
        "if 'google.colab' in str(get_ipython()):\n",
        "  from google.colab import drive\n",
        "  drive.mount('/content/drive')\n",
        "  base_folder = Path('/content/drive/MyDrive/data') # MAKE SURE TO CHANGE THE PATH\n",
        "\n",
        "# (the else block is required only if you have local GPU machine, other wise you can ignore the else block)\n",
        "else:\n",
        "  base_folder = Path('/home/harpreet/Insync/google_drive_shaannoor/data') # MAKE SURE TO CHANGE THE PATH\n",
        "\n"
      ]
    },
    {
      "cell_type": "markdown",
      "metadata": {
        "id": "LEuZToXJvbp_"
      },
      "source": [
        "## <Font color = 'dodgerblue'>**Create DataFrame**"
      ]
    },
    {
      "cell_type": "code",
      "execution_count": null,
      "metadata": {
        "id": "pLouBkwinb9g"
      },
      "outputs": [],
      "source": [
        "data_folder = base_folder/'datasets/yelp_food_service_ambience'  # MAKE SURE TO CHANGE THE PATH"
      ]
    },
    {
      "cell_type": "code",
      "execution_count": null,
      "metadata": {
        "id": "OS0nt6thnccL"
      },
      "outputs": [],
      "source": [
        "# location of train and test files\n",
        "data_file = data_folder /'review_sentences.csv'"
      ]
    },
    {
      "cell_type": "code",
      "execution_count": 5,
      "metadata": {
        "execution": {
          "iopub.execute_input": "2022-11-27T12:00:46.966533Z",
          "iopub.status.busy": "2022-11-27T12:00:46.966294Z",
          "iopub.status.idle": "2022-11-27T12:00:47.330265Z",
          "shell.execute_reply": "2022-11-27T12:00:47.329743Z",
          "shell.execute_reply.started": "2022-11-27T12:00:46.966507Z"
        },
        "id": "98f933d1-7cf1-49fc-b3e0-33d5e1810080",
        "tags": []
      },
      "outputs": [],
      "source": [
        "# creating Pandas Dataframe\n",
        "train_data = pd.read_csv(\"/content/review_sentences.csv\", index_col=0, encoding='ISO-8859-1')"
      ]
    },
    {
      "cell_type": "code",
      "execution_count": 6,
      "metadata": {
        "colab": {
          "base_uri": "https://localhost:8080/"
        },
        "execution": {
          "iopub.execute_input": "2022-11-27T12:00:49.141600Z",
          "iopub.status.busy": "2022-11-27T12:00:49.141359Z",
          "iopub.status.idle": "2022-11-27T12:00:49.144979Z",
          "shell.execute_reply": "2022-11-27T12:00:49.144442Z",
          "shell.execute_reply.started": "2022-11-27T12:00:49.141574Z"
        },
        "id": "e51abd57-98dc-42e8-8eb7-8ee7aa2c0826",
        "outputId": "56489c33-1c24-4996-d32f-02f11e723428",
        "tags": []
      },
      "outputs": [
        {
          "output_type": "stream",
          "name": "stdout",
          "text": [
            "Shape of Training data set is : (584, 2)\n"
          ]
        }
      ],
      "source": [
        "# print shape of the datasets\n",
        "print(f'Shape of Training data set is : {train_data.shape}')"
      ]
    },
    {
      "cell_type": "code",
      "execution_count": null,
      "metadata": {
        "colab": {
          "base_uri": "https://localhost:8080/"
        },
        "execution": {
          "iopub.execute_input": "2022-11-27T12:00:53.875850Z",
          "iopub.status.busy": "2022-11-27T12:00:53.875722Z",
          "iopub.status.idle": "2022-11-27T12:00:53.881530Z",
          "shell.execute_reply": "2022-11-27T12:00:53.880914Z",
          "shell.execute_reply.started": "2022-11-27T12:00:53.875838Z"
        },
        "id": "8d3157a4-b99c-40b8-af7a-07f604a819a1",
        "outputId": "adadbefa-2d7e-42ba-9231-b24f6ec26080",
        "tags": []
      },
      "outputs": [
        {
          "output_type": "stream",
          "name": "stdout",
          "text": [
            "<class 'pandas.core.frame.DataFrame'>\n",
            "Int64Index: 584 entries, 0 to 599\n",
            "Data columns (total 2 columns):\n",
            " #   Column       Non-Null Count  Dtype \n",
            "---  ------       --------------  ----- \n",
            " 0   text         584 non-null    object\n",
            " 1   final_label  584 non-null    object\n",
            "dtypes: object(2)\n",
            "memory usage: 13.7+ KB\n"
          ]
        }
      ],
      "source": [
        "train_data.info()"
      ]
    },
    {
      "cell_type": "code",
      "execution_count": 7,
      "metadata": {
        "colab": {
          "base_uri": "https://localhost:8080/",
          "height": 237
        },
        "id": "HfJq-sfztFWK",
        "outputId": "ca8c2a36-7fb5-4475-ef4d-ad5da7b9696b"
      },
      "outputs": [
        {
          "output_type": "execute_result",
          "data": {
            "text/plain": [
              "                                                        text final_label\n",
              "sentences                                                               \n",
              "0          If you love unagi (eel) on rice, you'll absolu...        food\n",
              "1                       But it is definitely worth the wait.     service\n",
              "3          Sometimes get the Pho w/ rare beef which is de...        food\n",
              "4          Other items on this menu was a crab soup, duck...        food\n",
              "5          I visited the restaurant for lunch and arrived...       other"
            ],
            "text/html": [
              "\n",
              "  <div id=\"df-ccdbc62a-1aa2-47b8-aa15-2246bc22cbe2\" class=\"colab-df-container\">\n",
              "    <div>\n",
              "<style scoped>\n",
              "    .dataframe tbody tr th:only-of-type {\n",
              "        vertical-align: middle;\n",
              "    }\n",
              "\n",
              "    .dataframe tbody tr th {\n",
              "        vertical-align: top;\n",
              "    }\n",
              "\n",
              "    .dataframe thead th {\n",
              "        text-align: right;\n",
              "    }\n",
              "</style>\n",
              "<table border=\"1\" class=\"dataframe\">\n",
              "  <thead>\n",
              "    <tr style=\"text-align: right;\">\n",
              "      <th></th>\n",
              "      <th>text</th>\n",
              "      <th>final_label</th>\n",
              "    </tr>\n",
              "    <tr>\n",
              "      <th>sentences</th>\n",
              "      <th></th>\n",
              "      <th></th>\n",
              "    </tr>\n",
              "  </thead>\n",
              "  <tbody>\n",
              "    <tr>\n",
              "      <th>0</th>\n",
              "      <td>If you love unagi (eel) on rice, you'll absolu...</td>\n",
              "      <td>food</td>\n",
              "    </tr>\n",
              "    <tr>\n",
              "      <th>1</th>\n",
              "      <td>But it is definitely worth the wait.</td>\n",
              "      <td>service</td>\n",
              "    </tr>\n",
              "    <tr>\n",
              "      <th>3</th>\n",
              "      <td>Sometimes get the Pho w/ rare beef which is de...</td>\n",
              "      <td>food</td>\n",
              "    </tr>\n",
              "    <tr>\n",
              "      <th>4</th>\n",
              "      <td>Other items on this menu was a crab soup, duck...</td>\n",
              "      <td>food</td>\n",
              "    </tr>\n",
              "    <tr>\n",
              "      <th>5</th>\n",
              "      <td>I visited the restaurant for lunch and arrived...</td>\n",
              "      <td>other</td>\n",
              "    </tr>\n",
              "  </tbody>\n",
              "</table>\n",
              "</div>\n",
              "    <div class=\"colab-df-buttons\">\n",
              "\n",
              "  <div class=\"colab-df-container\">\n",
              "    <button class=\"colab-df-convert\" onclick=\"convertToInteractive('df-ccdbc62a-1aa2-47b8-aa15-2246bc22cbe2')\"\n",
              "            title=\"Convert this dataframe to an interactive table.\"\n",
              "            style=\"display:none;\">\n",
              "\n",
              "  <svg xmlns=\"http://www.w3.org/2000/svg\" height=\"24px\" viewBox=\"0 -960 960 960\">\n",
              "    <path d=\"M120-120v-720h720v720H120Zm60-500h600v-160H180v160Zm220 220h160v-160H400v160Zm0 220h160v-160H400v160ZM180-400h160v-160H180v160Zm440 0h160v-160H620v160ZM180-180h160v-160H180v160Zm440 0h160v-160H620v160Z\"/>\n",
              "  </svg>\n",
              "    </button>\n",
              "\n",
              "  <style>\n",
              "    .colab-df-container {\n",
              "      display:flex;\n",
              "      gap: 12px;\n",
              "    }\n",
              "\n",
              "    .colab-df-convert {\n",
              "      background-color: #E8F0FE;\n",
              "      border: none;\n",
              "      border-radius: 50%;\n",
              "      cursor: pointer;\n",
              "      display: none;\n",
              "      fill: #1967D2;\n",
              "      height: 32px;\n",
              "      padding: 0 0 0 0;\n",
              "      width: 32px;\n",
              "    }\n",
              "\n",
              "    .colab-df-convert:hover {\n",
              "      background-color: #E2EBFA;\n",
              "      box-shadow: 0px 1px 2px rgba(60, 64, 67, 0.3), 0px 1px 3px 1px rgba(60, 64, 67, 0.15);\n",
              "      fill: #174EA6;\n",
              "    }\n",
              "\n",
              "    .colab-df-buttons div {\n",
              "      margin-bottom: 4px;\n",
              "    }\n",
              "\n",
              "    [theme=dark] .colab-df-convert {\n",
              "      background-color: #3B4455;\n",
              "      fill: #D2E3FC;\n",
              "    }\n",
              "\n",
              "    [theme=dark] .colab-df-convert:hover {\n",
              "      background-color: #434B5C;\n",
              "      box-shadow: 0px 1px 3px 1px rgba(0, 0, 0, 0.15);\n",
              "      filter: drop-shadow(0px 1px 2px rgba(0, 0, 0, 0.3));\n",
              "      fill: #FFFFFF;\n",
              "    }\n",
              "  </style>\n",
              "\n",
              "    <script>\n",
              "      const buttonEl =\n",
              "        document.querySelector('#df-ccdbc62a-1aa2-47b8-aa15-2246bc22cbe2 button.colab-df-convert');\n",
              "      buttonEl.style.display =\n",
              "        google.colab.kernel.accessAllowed ? 'block' : 'none';\n",
              "\n",
              "      async function convertToInteractive(key) {\n",
              "        const element = document.querySelector('#df-ccdbc62a-1aa2-47b8-aa15-2246bc22cbe2');\n",
              "        const dataTable =\n",
              "          await google.colab.kernel.invokeFunction('convertToInteractive',\n",
              "                                                    [key], {});\n",
              "        if (!dataTable) return;\n",
              "\n",
              "        const docLinkHtml = 'Like what you see? Visit the ' +\n",
              "          '<a target=\"_blank\" href=https://colab.research.google.com/notebooks/data_table.ipynb>data table notebook</a>'\n",
              "          + ' to learn more about interactive tables.';\n",
              "        element.innerHTML = '';\n",
              "        dataTable['output_type'] = 'display_data';\n",
              "        await google.colab.output.renderOutput(dataTable, element);\n",
              "        const docLink = document.createElement('div');\n",
              "        docLink.innerHTML = docLinkHtml;\n",
              "        element.appendChild(docLink);\n",
              "      }\n",
              "    </script>\n",
              "  </div>\n",
              "\n",
              "\n",
              "<div id=\"df-948128c7-4b63-4c8b-8cb7-055209ad2289\">\n",
              "  <button class=\"colab-df-quickchart\" onclick=\"quickchart('df-948128c7-4b63-4c8b-8cb7-055209ad2289')\"\n",
              "            title=\"Suggest charts.\"\n",
              "            style=\"display:none;\">\n",
              "\n",
              "<svg xmlns=\"http://www.w3.org/2000/svg\" height=\"24px\"viewBox=\"0 0 24 24\"\n",
              "     width=\"24px\">\n",
              "    <g>\n",
              "        <path d=\"M19 3H5c-1.1 0-2 .9-2 2v14c0 1.1.9 2 2 2h14c1.1 0 2-.9 2-2V5c0-1.1-.9-2-2-2zM9 17H7v-7h2v7zm4 0h-2V7h2v10zm4 0h-2v-4h2v4z\"/>\n",
              "    </g>\n",
              "</svg>\n",
              "  </button>\n",
              "\n",
              "<style>\n",
              "  .colab-df-quickchart {\n",
              "      --bg-color: #E8F0FE;\n",
              "      --fill-color: #1967D2;\n",
              "      --hover-bg-color: #E2EBFA;\n",
              "      --hover-fill-color: #174EA6;\n",
              "      --disabled-fill-color: #AAA;\n",
              "      --disabled-bg-color: #DDD;\n",
              "  }\n",
              "\n",
              "  [theme=dark] .colab-df-quickchart {\n",
              "      --bg-color: #3B4455;\n",
              "      --fill-color: #D2E3FC;\n",
              "      --hover-bg-color: #434B5C;\n",
              "      --hover-fill-color: #FFFFFF;\n",
              "      --disabled-bg-color: #3B4455;\n",
              "      --disabled-fill-color: #666;\n",
              "  }\n",
              "\n",
              "  .colab-df-quickchart {\n",
              "    background-color: var(--bg-color);\n",
              "    border: none;\n",
              "    border-radius: 50%;\n",
              "    cursor: pointer;\n",
              "    display: none;\n",
              "    fill: var(--fill-color);\n",
              "    height: 32px;\n",
              "    padding: 0;\n",
              "    width: 32px;\n",
              "  }\n",
              "\n",
              "  .colab-df-quickchart:hover {\n",
              "    background-color: var(--hover-bg-color);\n",
              "    box-shadow: 0 1px 2px rgba(60, 64, 67, 0.3), 0 1px 3px 1px rgba(60, 64, 67, 0.15);\n",
              "    fill: var(--button-hover-fill-color);\n",
              "  }\n",
              "\n",
              "  .colab-df-quickchart-complete:disabled,\n",
              "  .colab-df-quickchart-complete:disabled:hover {\n",
              "    background-color: var(--disabled-bg-color);\n",
              "    fill: var(--disabled-fill-color);\n",
              "    box-shadow: none;\n",
              "  }\n",
              "\n",
              "  .colab-df-spinner {\n",
              "    border: 2px solid var(--fill-color);\n",
              "    border-color: transparent;\n",
              "    border-bottom-color: var(--fill-color);\n",
              "    animation:\n",
              "      spin 1s steps(1) infinite;\n",
              "  }\n",
              "\n",
              "  @keyframes spin {\n",
              "    0% {\n",
              "      border-color: transparent;\n",
              "      border-bottom-color: var(--fill-color);\n",
              "      border-left-color: var(--fill-color);\n",
              "    }\n",
              "    20% {\n",
              "      border-color: transparent;\n",
              "      border-left-color: var(--fill-color);\n",
              "      border-top-color: var(--fill-color);\n",
              "    }\n",
              "    30% {\n",
              "      border-color: transparent;\n",
              "      border-left-color: var(--fill-color);\n",
              "      border-top-color: var(--fill-color);\n",
              "      border-right-color: var(--fill-color);\n",
              "    }\n",
              "    40% {\n",
              "      border-color: transparent;\n",
              "      border-right-color: var(--fill-color);\n",
              "      border-top-color: var(--fill-color);\n",
              "    }\n",
              "    60% {\n",
              "      border-color: transparent;\n",
              "      border-right-color: var(--fill-color);\n",
              "    }\n",
              "    80% {\n",
              "      border-color: transparent;\n",
              "      border-right-color: var(--fill-color);\n",
              "      border-bottom-color: var(--fill-color);\n",
              "    }\n",
              "    90% {\n",
              "      border-color: transparent;\n",
              "      border-bottom-color: var(--fill-color);\n",
              "    }\n",
              "  }\n",
              "</style>\n",
              "\n",
              "  <script>\n",
              "    async function quickchart(key) {\n",
              "      const quickchartButtonEl =\n",
              "        document.querySelector('#' + key + ' button');\n",
              "      quickchartButtonEl.disabled = true;  // To prevent multiple clicks.\n",
              "      quickchartButtonEl.classList.add('colab-df-spinner');\n",
              "      try {\n",
              "        const charts = await google.colab.kernel.invokeFunction(\n",
              "            'suggestCharts', [key], {});\n",
              "      } catch (error) {\n",
              "        console.error('Error during call to suggestCharts:', error);\n",
              "      }\n",
              "      quickchartButtonEl.classList.remove('colab-df-spinner');\n",
              "      quickchartButtonEl.classList.add('colab-df-quickchart-complete');\n",
              "    }\n",
              "    (() => {\n",
              "      let quickchartButtonEl =\n",
              "        document.querySelector('#df-948128c7-4b63-4c8b-8cb7-055209ad2289 button');\n",
              "      quickchartButtonEl.style.display =\n",
              "        google.colab.kernel.accessAllowed ? 'block' : 'none';\n",
              "    })();\n",
              "  </script>\n",
              "</div>\n",
              "    </div>\n",
              "  </div>\n"
            ]
          },
          "metadata": {},
          "execution_count": 7
        }
      ],
      "source": [
        "# check first five examples\n",
        "train_data.head()"
      ]
    },
    {
      "cell_type": "code",
      "execution_count": null,
      "metadata": {
        "colab": {
          "base_uri": "https://localhost:8080/"
        },
        "id": "MYLzdiWRZ2Hl",
        "outputId": "325b9192-eaf2-4f15-f169-d77aeb728994"
      },
      "outputs": [
        {
          "output_type": "execute_result",
          "data": {
            "text/plain": [
              "food        279\n",
              "other       139\n",
              "service     120\n",
              "ambiance     46\n",
              "Name: final_label, dtype: int64"
            ]
          },
          "metadata": {},
          "execution_count": 8
        }
      ],
      "source": [
        "# check disytribution of labels\n",
        "train_data['final_label'].value_counts()"
      ]
    },
    {
      "cell_type": "markdown",
      "metadata": {
        "id": "_4fujYvhv1Rt"
      },
      "source": [
        "## <Font color = 'dodgerblue'>**Load Pipeline**"
      ]
    },
    {
      "cell_type": "code",
      "execution_count": 8,
      "metadata": {
        "execution": {
          "iopub.execute_input": "2022-11-27T12:01:44.481793Z",
          "iopub.status.busy": "2022-11-27T12:01:44.481554Z",
          "iopub.status.idle": "2022-11-27T12:01:44.486406Z",
          "shell.execute_reply": "2022-11-27T12:01:44.485776Z",
          "shell.execute_reply.started": "2022-11-27T12:01:44.481768Z"
        },
        "id": "cbd916e4-6587-46c8-93c4-f2f00edf7748",
        "tags": [],
        "colab": {
          "base_uri": "https://localhost:8080/",
          "height": 245,
          "referenced_widgets": [
            "88c255ac123f4e7fb01ba622649df6f8",
            "631a8a12410f4e6c9b08d1f1d85f6eee",
            "e65c807d483e4ed9b4aac77bb78b1b42",
            "109ac61926f648968a2a8136fbc4f44d",
            "3d7db48e11634b57b22c8c8dbe93c6a9",
            "5e2934ccdd1143a98d3598531508da9d",
            "bac2dffcce954f599d729c1fb4d79d22",
            "d99ac6a91b2b487d9cf3bd551beb7971",
            "1e8f33d1d44b4691854a29171f33a01f",
            "af05cfcf16a24e93a3ed214c94aeeccb",
            "49136021e0c847928b679724cca5736a",
            "540231b7a6c3465498f69eeb9172d13c",
            "681e127d47724ebda85122657f2f6079",
            "37f1f39161194f34ab241afc8ad4d657",
            "67594ae771774084a3e780871ed4a7d4",
            "9594a5787074455e8d4ebd3af926c1b8",
            "3d2e8115baf44beab292945eadcc7431",
            "0d6a5280f1a24424aeeebc5fc53f5c2d",
            "0c67700acd884bd7ac0a6a3add559855",
            "8e29b6cdc02145eaac0293b33a042eff",
            "ad75fd79f5dc4d3dafc269056e9a5e1e",
            "c0b53509019e4f0caa59bf3f320a4056",
            "7eba52d5673e40c78ad75c9e89d882f9",
            "f2a0373962df42eeaff039f3367012e8",
            "97548c0e314644c7a157c83626ff4f11",
            "10656b4053b74c6086bcc04397c01334",
            "62ed077bf227486390c24be4cf06e18f",
            "ba7e9e5298c04a46a8223a6a42f564fe",
            "313b1e2e726f444194c1812d33559fe7",
            "a5117e368c044034ad1fab33c4d2c31a",
            "fad6a5f3805f4e91ad90a55036390f6f",
            "086cb3b05bd4412a841dd145f4283b55",
            "dd508141cc584ab2a609033014f8385b",
            "ef6e6f9290134678a0b417a23b26306f",
            "3eb9bd655bf14841b5b44ef6ccbc0ca5",
            "4d3258c0435a46169ce3bb54430be299",
            "3a818cf835d8457bb5bea387bac18d1b",
            "238cb37e325f4d15ac3d91007b4fdae5",
            "04acabf242d84b5d880c100fc01e4195",
            "99807f2e5c864da68103ffb39e00e893",
            "5e1952639792445eaaa73a126f6559da",
            "51dc525bacb045bc9d288d8ccd2a7294",
            "13fd7fbd26cf410e86713212019ab492",
            "9a7e965aa20a4fa88dcff28860aab325",
            "cc9993eb6b004c238bd4a767eafb26e0",
            "db002dfac6ca4ca79800053c7ed3314a",
            "d36062902b4a454398424fb029916f36",
            "c305208ac3ca4e8595a3d2b63edd809f",
            "40da2e7d4c974bd5a7ee316c5a23da80",
            "f6d6b6ae988c4917ba12a5ceec3022e3",
            "b77c3753493b424ca4e9009b184c6e48",
            "e44f1243c9fa4eaaa8d76f7484545c86",
            "6d2d651fe99b4f489dcc4e7f3b0a847c",
            "93fcb934f872440a9037000ae5e7e184",
            "7bc5d572795743848df021abdf81d001",
            "9d01f6ff84fd4ea69bbb117ffa0fa8d1",
            "d8f8d7b662344b23b34e66ad981c5bde",
            "ad194c193d6e40608c26e63f4ed764b7",
            "c17ff172b6e04377b642036a573d16d9",
            "2aa8aa3a08d24ecc93480cafe39a1b66",
            "3b5d9d88c08d4acb892e283b6231f703",
            "859f569e36e74397a14c32a5f512dd2b",
            "39a64147ed944c7f96d501d4b965e39e",
            "40e2c34faca841a68c196af5d59fdac1",
            "a58de1d5d7d64bdc8ce52963fce9b663",
            "48f1bad3ffa64f63b4482ab830990b48"
          ]
        },
        "outputId": "84c7381a-a14b-4dd4-c038-8b37637bcffb"
      },
      "outputs": [
        {
          "output_type": "stream",
          "name": "stderr",
          "text": [
            "No model was supplied, defaulted to facebook/bart-large-mnli and revision c626438 (https://huggingface.co/facebook/bart-large-mnli).\n",
            "Using a pipeline without specifying a model name and revision in production is not recommended.\n"
          ]
        },
        {
          "output_type": "display_data",
          "data": {
            "text/plain": [
              "Downloading (…)lve/main/config.json:   0%|          | 0.00/1.15k [00:00<?, ?B/s]"
            ],
            "application/vnd.jupyter.widget-view+json": {
              "version_major": 2,
              "version_minor": 0,
              "model_id": "88c255ac123f4e7fb01ba622649df6f8"
            }
          },
          "metadata": {}
        },
        {
          "output_type": "display_data",
          "data": {
            "text/plain": [
              "Downloading model.safetensors:   0%|          | 0.00/1.63G [00:00<?, ?B/s]"
            ],
            "application/vnd.jupyter.widget-view+json": {
              "version_major": 2,
              "version_minor": 0,
              "model_id": "540231b7a6c3465498f69eeb9172d13c"
            }
          },
          "metadata": {}
        },
        {
          "output_type": "display_data",
          "data": {
            "text/plain": [
              "Downloading (…)okenizer_config.json:   0%|          | 0.00/26.0 [00:00<?, ?B/s]"
            ],
            "application/vnd.jupyter.widget-view+json": {
              "version_major": 2,
              "version_minor": 0,
              "model_id": "7eba52d5673e40c78ad75c9e89d882f9"
            }
          },
          "metadata": {}
        },
        {
          "output_type": "display_data",
          "data": {
            "text/plain": [
              "Downloading (…)olve/main/vocab.json:   0%|          | 0.00/899k [00:00<?, ?B/s]"
            ],
            "application/vnd.jupyter.widget-view+json": {
              "version_major": 2,
              "version_minor": 0,
              "model_id": "ef6e6f9290134678a0b417a23b26306f"
            }
          },
          "metadata": {}
        },
        {
          "output_type": "display_data",
          "data": {
            "text/plain": [
              "Downloading (…)olve/main/merges.txt:   0%|          | 0.00/456k [00:00<?, ?B/s]"
            ],
            "application/vnd.jupyter.widget-view+json": {
              "version_major": 2,
              "version_minor": 0,
              "model_id": "cc9993eb6b004c238bd4a767eafb26e0"
            }
          },
          "metadata": {}
        },
        {
          "output_type": "display_data",
          "data": {
            "text/plain": [
              "Downloading (…)/main/tokenizer.json:   0%|          | 0.00/1.36M [00:00<?, ?B/s]"
            ],
            "application/vnd.jupyter.widget-view+json": {
              "version_major": 2,
              "version_minor": 0,
              "model_id": "9d01f6ff84fd4ea69bbb117ffa0fa8d1"
            }
          },
          "metadata": {}
        }
      ],
      "source": [
        "# Load zero shot classification pipleine - do not pass any model. We will use the default model\n",
        "# use pytorch as framework and move the pipleine to GPU\n",
        "# syntax : zero_shot_classifier = pipeline(name-of-pipeline, framework=, device =)\n",
        "\n",
        "zero_shot_classifier = pipeline(\"zero-shot-classification\",framework='pt',device = 0)"
      ]
    },
    {
      "cell_type": "markdown",
      "source": [
        "## <Font color = 'dodgerblue'>**Task1 : Base experiment**.\n",
        "\n",
        "- **In this Task you will pass all the four labels to the classifier.**"
      ],
      "metadata": {
        "id": "xuHnPBf8pSjA"
      }
    },
    {
      "cell_type": "markdown",
      "metadata": {
        "id": "wCZK8GT_wHwa"
      },
      "source": [
        "### <Font color = 'dodgerblue'>**Create a list of reviews**"
      ]
    },
    {
      "cell_type": "code",
      "source": [
        "train_data"
      ],
      "metadata": {
        "colab": {
          "base_uri": "https://localhost:8080/",
          "height": 455
        },
        "id": "WAST4dAiXoor",
        "outputId": "9de4a56b-94b7-49b4-9a3a-967effe7fd88"
      },
      "execution_count": null,
      "outputs": [
        {
          "output_type": "execute_result",
          "data": {
            "text/plain": [
              "                                                        text final_label\n",
              "sentences                                                               \n",
              "0          If you love unagi (eel) on rice, you'll absolu...        food\n",
              "1                       But it is definitely worth the wait.     service\n",
              "3          Sometimes get the Pho w/ rare beef which is de...        food\n",
              "4          Other items on this menu was a crab soup, duck...        food\n",
              "5          I visited the restaurant for lunch and arrived...       other\n",
              "...                                                      ...         ...\n",
              "595        The staff is amazingly friendly, upon placing ...     service\n",
              "596        Said hold on, went to the back and brought out...        food\n",
              "597                Then the pizza came out, wow it was huge!        food\n",
              "598                                    Crispy and wonderful.        food\n",
              "599        Stopped here with my wife due to the 18 pizza ...        food\n",
              "\n",
              "[584 rows x 2 columns]"
            ],
            "text/html": [
              "\n",
              "  <div id=\"df-5500a65a-c815-4256-b42b-f9bbd45fb2ac\" class=\"colab-df-container\">\n",
              "    <div>\n",
              "<style scoped>\n",
              "    .dataframe tbody tr th:only-of-type {\n",
              "        vertical-align: middle;\n",
              "    }\n",
              "\n",
              "    .dataframe tbody tr th {\n",
              "        vertical-align: top;\n",
              "    }\n",
              "\n",
              "    .dataframe thead th {\n",
              "        text-align: right;\n",
              "    }\n",
              "</style>\n",
              "<table border=\"1\" class=\"dataframe\">\n",
              "  <thead>\n",
              "    <tr style=\"text-align: right;\">\n",
              "      <th></th>\n",
              "      <th>text</th>\n",
              "      <th>final_label</th>\n",
              "    </tr>\n",
              "    <tr>\n",
              "      <th>sentences</th>\n",
              "      <th></th>\n",
              "      <th></th>\n",
              "    </tr>\n",
              "  </thead>\n",
              "  <tbody>\n",
              "    <tr>\n",
              "      <th>0</th>\n",
              "      <td>If you love unagi (eel) on rice, you'll absolu...</td>\n",
              "      <td>food</td>\n",
              "    </tr>\n",
              "    <tr>\n",
              "      <th>1</th>\n",
              "      <td>But it is definitely worth the wait.</td>\n",
              "      <td>service</td>\n",
              "    </tr>\n",
              "    <tr>\n",
              "      <th>3</th>\n",
              "      <td>Sometimes get the Pho w/ rare beef which is de...</td>\n",
              "      <td>food</td>\n",
              "    </tr>\n",
              "    <tr>\n",
              "      <th>4</th>\n",
              "      <td>Other items on this menu was a crab soup, duck...</td>\n",
              "      <td>food</td>\n",
              "    </tr>\n",
              "    <tr>\n",
              "      <th>5</th>\n",
              "      <td>I visited the restaurant for lunch and arrived...</td>\n",
              "      <td>other</td>\n",
              "    </tr>\n",
              "    <tr>\n",
              "      <th>...</th>\n",
              "      <td>...</td>\n",
              "      <td>...</td>\n",
              "    </tr>\n",
              "    <tr>\n",
              "      <th>595</th>\n",
              "      <td>The staff is amazingly friendly, upon placing ...</td>\n",
              "      <td>service</td>\n",
              "    </tr>\n",
              "    <tr>\n",
              "      <th>596</th>\n",
              "      <td>Said hold on, went to the back and brought out...</td>\n",
              "      <td>food</td>\n",
              "    </tr>\n",
              "    <tr>\n",
              "      <th>597</th>\n",
              "      <td>Then the pizza came out, wow it was huge!</td>\n",
              "      <td>food</td>\n",
              "    </tr>\n",
              "    <tr>\n",
              "      <th>598</th>\n",
              "      <td>Crispy and wonderful.</td>\n",
              "      <td>food</td>\n",
              "    </tr>\n",
              "    <tr>\n",
              "      <th>599</th>\n",
              "      <td>Stopped here with my wife due to the 18 pizza ...</td>\n",
              "      <td>food</td>\n",
              "    </tr>\n",
              "  </tbody>\n",
              "</table>\n",
              "<p>584 rows × 2 columns</p>\n",
              "</div>\n",
              "    <div class=\"colab-df-buttons\">\n",
              "\n",
              "  <div class=\"colab-df-container\">\n",
              "    <button class=\"colab-df-convert\" onclick=\"convertToInteractive('df-5500a65a-c815-4256-b42b-f9bbd45fb2ac')\"\n",
              "            title=\"Convert this dataframe to an interactive table.\"\n",
              "            style=\"display:none;\">\n",
              "\n",
              "  <svg xmlns=\"http://www.w3.org/2000/svg\" height=\"24px\" viewBox=\"0 -960 960 960\">\n",
              "    <path d=\"M120-120v-720h720v720H120Zm60-500h600v-160H180v160Zm220 220h160v-160H400v160Zm0 220h160v-160H400v160ZM180-400h160v-160H180v160Zm440 0h160v-160H620v160ZM180-180h160v-160H180v160Zm440 0h160v-160H620v160Z\"/>\n",
              "  </svg>\n",
              "    </button>\n",
              "\n",
              "  <style>\n",
              "    .colab-df-container {\n",
              "      display:flex;\n",
              "      gap: 12px;\n",
              "    }\n",
              "\n",
              "    .colab-df-convert {\n",
              "      background-color: #E8F0FE;\n",
              "      border: none;\n",
              "      border-radius: 50%;\n",
              "      cursor: pointer;\n",
              "      display: none;\n",
              "      fill: #1967D2;\n",
              "      height: 32px;\n",
              "      padding: 0 0 0 0;\n",
              "      width: 32px;\n",
              "    }\n",
              "\n",
              "    .colab-df-convert:hover {\n",
              "      background-color: #E2EBFA;\n",
              "      box-shadow: 0px 1px 2px rgba(60, 64, 67, 0.3), 0px 1px 3px 1px rgba(60, 64, 67, 0.15);\n",
              "      fill: #174EA6;\n",
              "    }\n",
              "\n",
              "    .colab-df-buttons div {\n",
              "      margin-bottom: 4px;\n",
              "    }\n",
              "\n",
              "    [theme=dark] .colab-df-convert {\n",
              "      background-color: #3B4455;\n",
              "      fill: #D2E3FC;\n",
              "    }\n",
              "\n",
              "    [theme=dark] .colab-df-convert:hover {\n",
              "      background-color: #434B5C;\n",
              "      box-shadow: 0px 1px 3px 1px rgba(0, 0, 0, 0.15);\n",
              "      filter: drop-shadow(0px 1px 2px rgba(0, 0, 0, 0.3));\n",
              "      fill: #FFFFFF;\n",
              "    }\n",
              "  </style>\n",
              "\n",
              "    <script>\n",
              "      const buttonEl =\n",
              "        document.querySelector('#df-5500a65a-c815-4256-b42b-f9bbd45fb2ac button.colab-df-convert');\n",
              "      buttonEl.style.display =\n",
              "        google.colab.kernel.accessAllowed ? 'block' : 'none';\n",
              "\n",
              "      async function convertToInteractive(key) {\n",
              "        const element = document.querySelector('#df-5500a65a-c815-4256-b42b-f9bbd45fb2ac');\n",
              "        const dataTable =\n",
              "          await google.colab.kernel.invokeFunction('convertToInteractive',\n",
              "                                                    [key], {});\n",
              "        if (!dataTable) return;\n",
              "\n",
              "        const docLinkHtml = 'Like what you see? Visit the ' +\n",
              "          '<a target=\"_blank\" href=https://colab.research.google.com/notebooks/data_table.ipynb>data table notebook</a>'\n",
              "          + ' to learn more about interactive tables.';\n",
              "        element.innerHTML = '';\n",
              "        dataTable['output_type'] = 'display_data';\n",
              "        await google.colab.output.renderOutput(dataTable, element);\n",
              "        const docLink = document.createElement('div');\n",
              "        docLink.innerHTML = docLinkHtml;\n",
              "        element.appendChild(docLink);\n",
              "      }\n",
              "    </script>\n",
              "  </div>\n",
              "\n",
              "\n",
              "<div id=\"df-9835b64b-43f5-41b8-8e3d-b9427ea7f790\">\n",
              "  <button class=\"colab-df-quickchart\" onclick=\"quickchart('df-9835b64b-43f5-41b8-8e3d-b9427ea7f790')\"\n",
              "            title=\"Suggest charts.\"\n",
              "            style=\"display:none;\">\n",
              "\n",
              "<svg xmlns=\"http://www.w3.org/2000/svg\" height=\"24px\"viewBox=\"0 0 24 24\"\n",
              "     width=\"24px\">\n",
              "    <g>\n",
              "        <path d=\"M19 3H5c-1.1 0-2 .9-2 2v14c0 1.1.9 2 2 2h14c1.1 0 2-.9 2-2V5c0-1.1-.9-2-2-2zM9 17H7v-7h2v7zm4 0h-2V7h2v10zm4 0h-2v-4h2v4z\"/>\n",
              "    </g>\n",
              "</svg>\n",
              "  </button>\n",
              "\n",
              "<style>\n",
              "  .colab-df-quickchart {\n",
              "    background-color: #E8F0FE;\n",
              "    border: none;\n",
              "    border-radius: 50%;\n",
              "    cursor: pointer;\n",
              "    display: none;\n",
              "    fill: #1967D2;\n",
              "    height: 32px;\n",
              "    padding: 0 0 0 0;\n",
              "    width: 32px;\n",
              "  }\n",
              "\n",
              "  .colab-df-quickchart:hover {\n",
              "    background-color: #E2EBFA;\n",
              "    box-shadow: 0px 1px 2px rgba(60, 64, 67, 0.3), 0px 1px 3px 1px rgba(60, 64, 67, 0.15);\n",
              "    fill: #174EA6;\n",
              "  }\n",
              "\n",
              "  [theme=dark] .colab-df-quickchart {\n",
              "    background-color: #3B4455;\n",
              "    fill: #D2E3FC;\n",
              "  }\n",
              "\n",
              "  [theme=dark] .colab-df-quickchart:hover {\n",
              "    background-color: #434B5C;\n",
              "    box-shadow: 0px 1px 3px 1px rgba(0, 0, 0, 0.15);\n",
              "    filter: drop-shadow(0px 1px 2px rgba(0, 0, 0, 0.3));\n",
              "    fill: #FFFFFF;\n",
              "  }\n",
              "</style>\n",
              "\n",
              "  <script>\n",
              "    async function quickchart(key) {\n",
              "      const charts = await google.colab.kernel.invokeFunction(\n",
              "          'suggestCharts', [key], {});\n",
              "    }\n",
              "    (() => {\n",
              "      let quickchartButtonEl =\n",
              "        document.querySelector('#df-9835b64b-43f5-41b8-8e3d-b9427ea7f790 button');\n",
              "      quickchartButtonEl.style.display =\n",
              "        google.colab.kernel.accessAllowed ? 'block' : 'none';\n",
              "    })();\n",
              "  </script>\n",
              "</div>\n",
              "    </div>\n",
              "  </div>\n"
            ]
          },
          "metadata": {},
          "execution_count": 10
        }
      ]
    },
    {
      "cell_type": "code",
      "execution_count": 10,
      "metadata": {
        "id": "3_BlvcFmvzA4"
      },
      "outputs": [],
      "source": [
        "# create a list of reviews (hint use column.tolist() to convert numpy array series to python list)\n",
        "texts_train =  train_data['text'].to_list()\n",
        "\n",
        "# list of labels\n",
        "candidate_labels = list(set(train_data['final_label']))"
      ]
    },
    {
      "cell_type": "markdown",
      "metadata": {
        "id": "HfoUsKpPwTtb"
      },
      "source": [
        "### <Font color = 'dodgerblue'>**Get Probbailities**\n",
        "\n",
        "Pass the list of text and labels you created in the previous step to the classifier to get predictions.\n",
        "\n",
        "The syntax is : **```probs = zero_shot_classifier(sequences= , candidate_labels =  )```**"
      ]
    },
    {
      "cell_type": "code",
      "execution_count": 11,
      "metadata": {
        "execution": {
          "iopub.execute_input": "2022-11-27T12:01:45.594721Z",
          "iopub.status.busy": "2022-11-27T12:01:45.594481Z",
          "iopub.status.idle": "2022-11-27T12:01:50.801737Z",
          "shell.execute_reply": "2022-11-27T12:01:50.801068Z",
          "shell.execute_reply.started": "2022-11-27T12:01:45.594695Z"
        },
        "id": "95e85b0a-81ac-4b04-af9f-11ee9cfe9cf1",
        "tags": []
      },
      "outputs": [],
      "source": [
        "probs = zero_shot_classifier(texts_train,candidate_labels)"
      ]
    },
    {
      "cell_type": "code",
      "source": [
        "probs[0: 3]"
      ],
      "metadata": {
        "id": "kbiET8QIHprI",
        "colab": {
          "base_uri": "https://localhost:8080/"
        },
        "outputId": "29042111-a663-420e-d869-7454db591313"
      },
      "execution_count": null,
      "outputs": [
        {
          "output_type": "execute_result",
          "data": {
            "text/plain": [
              "[{'sequence': \"If you love unagi (eel) on rice, you'll absolutely enjoy their version.\",\n",
              "  'labels': ['food', 'ambiance', 'service', 'other'],\n",
              "  'scores': [0.9423722624778748,\n",
              "   0.023495187982916832,\n",
              "   0.021316785365343094,\n",
              "   0.012815762311220169]},\n",
              " {'sequence': 'But it is definitely worth the wait.',\n",
              "  'labels': ['other', 'service', 'ambiance', 'food'],\n",
              "  'scores': [0.4905829429626465,\n",
              "   0.2534791827201843,\n",
              "   0.20231030881404877,\n",
              "   0.05362754687666893]},\n",
              " {'sequence': 'Sometimes get the Pho w/ rare beef which is decent.',\n",
              "  'labels': ['food', 'other', 'service', 'ambiance'],\n",
              "  'scores': [0.77901691198349,\n",
              "   0.10868176072835922,\n",
              "   0.08358322829008102,\n",
              "   0.02871803566813469]}]"
            ]
          },
          "metadata": {},
          "execution_count": 13
        }
      ]
    },
    {
      "cell_type": "code",
      "source": [
        "# DO NOT RUN THIS CELL - This cells gives you an idea of the expected output"
      ],
      "metadata": {
        "colab": {
          "base_uri": "https://localhost:8080/"
        },
        "id": "A6hWI4aeReZd",
        "outputId": "f6fc168a-f9ea-4986-cb64-ca7afe99d91d"
      },
      "execution_count": null,
      "outputs": [
        {
          "output_type": "execute_result",
          "data": {
            "text/plain": [
              "[{'sequence': \"If you love unagi (eel) on rice, you'll absolutely enjoy their version.\",\n",
              "  'labels': ['food', 'ambiance', 'service', 'other'],\n",
              "  'scores': [0.9423722624778748,\n",
              "   0.023495187982916832,\n",
              "   0.021316785365343094,\n",
              "   0.012815762311220169]},\n",
              " {'sequence': 'But it is definitely worth the wait.',\n",
              "  'labels': ['other', 'service', 'ambiance', 'food'],\n",
              "  'scores': [0.4905829429626465,\n",
              "   0.2534791827201843,\n",
              "   0.20231030881404877,\n",
              "   0.05362754687666893]},\n",
              " {'sequence': 'Sometimes get the Pho w/ rare beef which is decent.',\n",
              "  'labels': ['food', 'other', 'service', 'ambiance'],\n",
              "  'scores': [0.7790170311927795,\n",
              "   0.10868176817893982,\n",
              "   0.08358323574066162,\n",
              "   0.02871803753077984]}]"
            ]
          },
          "metadata": {},
          "execution_count": 23
        }
      ]
    },
    {
      "cell_type": "markdown",
      "source": [
        "### <Font color = 'dodgerblue'>**Get Predictions**\n",
        "- The output from the classifier will give you the probbaility for each label\n",
        "- The label with the highest probbaility should be your prediction\n",
        "- You might need to use more than one line of the code to complete this step"
      ],
      "metadata": {
        "id": "dPph80xNupUO"
      }
    },
    {
      "cell_type": "code",
      "source": [
        "predictions =  []\n",
        "for i in probs:\n",
        "    dicti = dict()\n",
        "    for j in range(len(i[\"scores\"])):\n",
        "        dicti[i[\"labels\"][j]] = i[\"scores\"][j]\n",
        "    predictions.append(max(dicti, key=dicti.get))"
      ],
      "metadata": {
        "id": "MHKrANtowpQ9"
      },
      "execution_count": 12,
      "outputs": []
    },
    {
      "cell_type": "code",
      "source": [
        "# get first five preeictions\n",
        "predictions[0:5]"
      ],
      "metadata": {
        "id": "MZfPYzoKHf7U",
        "colab": {
          "base_uri": "https://localhost:8080/"
        },
        "outputId": "66ab69d2-eb1a-4673-905f-4fe322dacbff"
      },
      "execution_count": 13,
      "outputs": [
        {
          "output_type": "execute_result",
          "data": {
            "text/plain": [
              "['food', 'other', 'food', 'food', 'food']"
            ]
          },
          "metadata": {},
          "execution_count": 13
        }
      ]
    },
    {
      "cell_type": "code",
      "source": [
        "# DO NOT RUN THIS CELL - This cells gives you an idea of the expected output"
      ],
      "metadata": {
        "colab": {
          "base_uri": "https://localhost:8080/"
        },
        "id": "SqSmzrdPR70J",
        "outputId": "c9d9f93c-f7d5-4daf-ab7d-48d1b380a63a"
      },
      "execution_count": null,
      "outputs": [
        {
          "output_type": "execute_result",
          "data": {
            "text/plain": [
              "['food', 'other', 'food', 'food', 'food']"
            ]
          },
          "metadata": {},
          "execution_count": 18
        }
      ]
    },
    {
      "cell_type": "markdown",
      "source": [
        "### <Font color = 'dodgerblue'>**Accuracy**\n",
        "- You might need to use more than one line of the code to complete this step\n",
        "- Now you have the actual Label and predicted Label for each sentence.\n",
        "- Calculate the overall acacuracy (Hint : you can use accuracy_score form from sklearn - `from sklearn.metrics import accuracy_score`\n"
      ],
      "metadata": {
        "id": "We6JZ9fXuXUz"
      }
    },
    {
      "cell_type": "code",
      "source": [
        "from sklearn.metrics import accuracy_score\n",
        "accuracy = accuracy_score(train_data['final_label'].to_list(), predictions) * 100\n",
        "accuracy"
      ],
      "metadata": {
        "id": "dy9P6LSvSJbj",
        "colab": {
          "base_uri": "https://localhost:8080/"
        },
        "outputId": "ec50d6c6-8b75-4953-93ae-11f70e0dd63e"
      },
      "execution_count": 14,
      "outputs": [
        {
          "output_type": "execute_result",
          "data": {
            "text/plain": [
              "66.6095890410959"
            ]
          },
          "metadata": {},
          "execution_count": 14
        }
      ]
    },
    {
      "cell_type": "code",
      "source": [
        "# DO NOT RUN THIS CELL - If you have done everything correctly, you should get accurtacy close to reported below\n",
        "accuracy"
      ],
      "metadata": {
        "colab": {
          "base_uri": "https://localhost:8080/"
        },
        "id": "t6xdT9IhSpU8",
        "outputId": "aa7c4212-dbf5-47b1-b084-bfd31dee56b0"
      },
      "execution_count": null,
      "outputs": [
        {
          "output_type": "execute_result",
          "data": {
            "text/plain": [
              "66.6095890410959"
            ]
          },
          "metadata": {},
          "execution_count": 20
        }
      ]
    },
    {
      "cell_type": "markdown",
      "source": [
        "### <Font color = 'dodgerblue'>**Classification Report**\n",
        "- Print the classification report\n",
        "- HINT- `from sklearn.metrics import classification_report`"
      ],
      "metadata": {
        "id": "QYaQqsw8v8ln"
      }
    },
    {
      "cell_type": "code",
      "execution_count": 15,
      "metadata": {
        "id": "Q7MFdMnBxLFM",
        "colab": {
          "base_uri": "https://localhost:8080/"
        },
        "outputId": "c3eea75b-4aae-4bc4-b050-eee97010994a"
      },
      "outputs": [
        {
          "output_type": "stream",
          "name": "stdout",
          "text": [
            "              precision    recall  f1-score   support\n",
            "\n",
            "       other       0.39      0.33      0.36        46\n",
            "    ambiance       0.76      0.84      0.80       279\n",
            "        food       0.52      0.54      0.53       139\n",
            "     service       0.69      0.54      0.61       120\n",
            "\n",
            "    accuracy                           0.67       584\n",
            "   macro avg       0.59      0.56      0.57       584\n",
            "weighted avg       0.66      0.67      0.66       584\n",
            "\n"
          ]
        }
      ],
      "source": [
        "# print classification report\n",
        "from sklearn.metrics import classification_report\n",
        "class_report =  classification_report(train_data['final_label'].to_list(), predictions ,target_names=candidate_labels)\n",
        "print(class_report)"
      ]
    },
    {
      "cell_type": "code",
      "source": [
        "# DO NOT RUN THIS CELL - If you have done everything correctly, your report should look similar"
      ],
      "metadata": {
        "colab": {
          "base_uri": "https://localhost:8080/"
        },
        "id": "vA7LEpwPTWg4",
        "outputId": "ff82a5c4-0eb3-4b0a-fe7b-790ca9d4d9b4"
      },
      "execution_count": null,
      "outputs": [
        {
          "output_type": "stream",
          "name": "stdout",
          "text": [
            "              precision    recall  f1-score   support\n",
            "\n",
            "    ambiance       0.39      0.33      0.36        46\n",
            "        food       0.76      0.84      0.80       279\n",
            "       other       0.52      0.54      0.53       139\n",
            "     service       0.69      0.54      0.61       120\n",
            "\n",
            "    accuracy                           0.67       584\n",
            "   macro avg       0.59      0.56      0.57       584\n",
            "weighted avg       0.66      0.67      0.66       584\n",
            "\n"
          ]
        }
      ]
    },
    {
      "cell_type": "markdown",
      "source": [
        "###<Font color = 'dodgerblue'>**Conclusion from the classification report** </font>\n",
        "\n",
        "What do you conclude from the classification report?\n",
        "\n",
        "**When we look at individual metrics such as precision,recall,f1-score 'food' label has very good scores, but 'ambiance' label results aren't that encouraging. The model definitely underperformed with this label. Confusion matrix helps us to speak lot about this underway.**\n",
        "\n"
      ],
      "metadata": {
        "id": "z7mkN2E1RgY8"
      }
    },
    {
      "cell_type": "markdown",
      "source": [
        "### <Font color = 'dodgerblue'>**Confusion Matrix**\n",
        "- You might need to use more than one line of the code to complete this step\n",
        "- Print confusionm matrix\n",
        "- Hint:use ConfusionMatrixDisplay.from_predictions from sklearn"
      ],
      "metadata": {
        "id": "vv9btE81O6an"
      }
    },
    {
      "cell_type": "code",
      "source": [
        "# CODE HERE\n",
        "from sklearn.metrics import confusion_matrix, ConfusionMatrixDisplay\n",
        "cm = confusion_matrix(train_data['final_label'].to_list(), predictions, labels=candidate_labels)\n",
        "disp = ConfusionMatrixDisplay(confusion_matrix=cm,display_labels=candidate_labels)\n",
        "disp.plot()\n",
        "plt.show()"
      ],
      "metadata": {
        "id": "bw9M-jHlToSN",
        "colab": {
          "base_uri": "https://localhost:8080/",
          "height": 449
        },
        "outputId": "6ec89f67-9626-45aa-d409-f6e639582189"
      },
      "execution_count": 17,
      "outputs": [
        {
          "output_type": "display_data",
          "data": {
            "text/plain": [
              "<Figure size 640x480 with 2 Axes>"
            ],
            "image/png": "[encoded data removed]"
          },
          "metadata": {}
        }
      ]
    },
    {
      "cell_type": "code",
      "source": [
        "# DO NOT RUN THIS CELL - this gives you an idea of expected output. Your results might differ slightly"
      ],
      "metadata": {
        "colab": {
          "base_uri": "https://localhost:8080/",
          "height": 406
        },
        "id": "Usku0S9LgpkK",
        "outputId": "5d569d84-9e27-439f-ed82-cb5438312578"
      },
      "execution_count": null,
      "outputs": [
        {
          "output_type": "execute_result",
          "data": {
            "text/plain": [
              "<sklearn.metrics._plot.confusion_matrix.ConfusionMatrixDisplay at 0x7f3bcdf6bcd0>"
            ]
          },
          "metadata": {},
          "execution_count": 31
        },
        {
          "output_type": "display_data",
          "data": {
            "text/plain": [
              "<Figure size 500x400 with 2 Axes>"
            ],
            "image/png": "[encoded data removed]"
          },
          "metadata": {}
        }
      ]
    },
    {
      "cell_type": "markdown",
      "source": [
        "###<Font color = 'dodgerblue'>**Conclusions from the Confusion Matrix** </font>\n",
        "\n",
        "What do you conclude from the Confusion Matrix?\n",
        "\n",
        "**Ans : The model results for 'ambience' labels are not so encouraging and model could have better performed by providing still correct results for 'service' and 'other' labels.**\n",
        "\n",
        "\n"
      ],
      "metadata": {
        "id": "Ejw_5vPtzOS1"
      }
    },
    {
      "cell_type": "markdown",
      "source": [
        "## <Font color = 'dodgerblue'>**Task2 : Change hypothesis template**. </font>\n",
        "\n",
        "In this experiment, we are exploring the impact of changing the hypothesis template in a zero-shot classification model. The default template used in the pipeline is **\"This example is {}\"**. In the experiment the default template is being replaced with a domain-specific template to classify restaurant reviews into categories like food, service, ambiance, and other.\n",
        "\n",
        "### Steps:\n",
        "\n",
        "1. **Modify Hypothesis Template:** Adjust the template to better fit the context of restaurant reviews.\n",
        "2. **Evaluate Model:** Apply the modified template and report accuracy, a classification report, and confusion matrix.\n",
        "3. **Compare Results:** Analyze the findings in comparison to the previous experiment using the default template.\n",
        "\n",
        "### Conclusion:\n",
        "\n",
        "Changing the hypothesis template may lead to variations in model performance, possibly improving accuracy in certain categories. The comparison between the experiments can reveal insights into how the model interprets premises differently with various templates, helping to tailor the model to specific tasks or domains."
      ],
      "metadata": {
        "id": "Fk5oM0qQ0lqQ"
      }
    },
    {
      "cell_type": "markdown",
      "metadata": {
        "id": "eniliCyO23Qr"
      },
      "source": [
        "### <Font color = 'dodgerblue'>**Create a list of reviews**"
      ]
    },
    {
      "cell_type": "code",
      "execution_count": 18,
      "metadata": {
        "id": "fZB1sjVw23Qr"
      },
      "outputs": [],
      "source": [
        "# create a list of reviews (hint use column.tolist() to convert pandas series to python list)\n",
        "texts_train =  train_data['text'].to_list()\n",
        "\n",
        "# list of labels\n",
        "candidate_labels =  list(set(train_data['final_label']))"
      ]
    },
    {
      "cell_type": "markdown",
      "metadata": {
        "id": "sE1emxDW23Qr"
      },
      "source": [
        "### <Font color = 'dodgerblue'>**Get Probbailities**\n",
        "\n",
        "In the previous experiment, you only passed sequences and candiadte labels. Since you did not pass any hypothesis template, the classifier used the default template \"This example is {}.\" Now, in this experiment, you will introduce a custom hypothesis template to replace the default. The suggested custom template is \"This review is related to the restaurant's {}.\" By specifying a template more aligned with the context of restaurant reviews, you may influence how the classifier interprets the relationship between the premise and each candidate label. Feel free to explore other custom templates that may be suitable for this task, and compare how these changes affect the classification performance.\n",
        "\n",
        "The syntax is : **```zero_shot_classifier(sequences= , candidate_labels = , hypothesis_template =   )```**"
      ]
    },
    {
      "cell_type": "code",
      "execution_count": 19,
      "metadata": {
        "execution": {
          "iopub.execute_input": "2022-11-27T12:01:45.594721Z",
          "iopub.status.busy": "2022-11-27T12:01:45.594481Z",
          "iopub.status.idle": "2022-11-27T12:01:50.801737Z",
          "shell.execute_reply": "2022-11-27T12:01:50.801068Z",
          "shell.execute_reply.started": "2022-11-27T12:01:45.594695Z"
        },
        "tags": [],
        "id": "aEV28Et723Qr"
      },
      "outputs": [],
      "source": [
        "# pass the sequences, candiadte labels and hypothesis_template to the classifier\n",
        "# CODE HERE\n",
        "probs = zero_shot_classifier(texts_train,candidate_labels,hypothesis_template=\"This review is related to the restaurant's {}.\")"
      ]
    },
    {
      "cell_type": "code",
      "source": [
        "probs[0:3]"
      ],
      "metadata": {
        "id": "rajMDD2ZK6ms",
        "colab": {
          "base_uri": "https://localhost:8080/"
        },
        "outputId": "0c57131e-560d-4dd0-bf1b-f31338da1434"
      },
      "execution_count": null,
      "outputs": [
        {
          "output_type": "execute_result",
          "data": {
            "text/plain": [
              "[{'sequence': \"If you love unagi (eel) on rice, you'll absolutely enjoy their version.\",\n",
              "  'labels': ['food', 'other', 'service', 'ambiance'],\n",
              "  'scores': [0.828623354434967,\n",
              "   0.166020467877388,\n",
              "   0.0027873299550265074,\n",
              "   0.002568812808021903]},\n",
              " {'sequence': 'But it is definitely worth the wait.',\n",
              "  'labels': ['other', 'food', 'service', 'ambiance'],\n",
              "  'scores': [0.3562210202217102,\n",
              "   0.30787432193756104,\n",
              "   0.24831949174404144,\n",
              "   0.08758512139320374]},\n",
              " {'sequence': 'Sometimes get the Pho w/ rare beef which is decent.',\n",
              "  'labels': ['food', 'other', 'ambiance', 'service'],\n",
              "  'scores': [0.809067964553833,\n",
              "   0.18316298723220825,\n",
              "   0.004174679517745972,\n",
              "   0.003594418754801154]}]"
            ]
          },
          "metadata": {},
          "execution_count": 27
        }
      ]
    },
    {
      "cell_type": "markdown",
      "source": [
        "### <Font color = 'dodgerblue'>**Get Predictions**\n",
        "- The output from the classifier will give you the probbaility for each label\n",
        "- The label with the highest probbaility should be your prediction\n",
        "- You might need to use more than one line of the code to complete this step"
      ],
      "metadata": {
        "id": "NXB_v7XB23Qs"
      }
    },
    {
      "cell_type": "code",
      "source": [
        "predictions =  []\n",
        "for i in probs:\n",
        "    dicti = dict()\n",
        "    for j in range(len(i[\"scores\"])):\n",
        "        dicti[i[\"labels\"][j]] = i[\"scores\"][j]\n",
        "    predictions.append(max(dicti, key=dicti.get))"
      ],
      "metadata": {
        "id": "zIRClFhD23Qs"
      },
      "execution_count": 20,
      "outputs": []
    },
    {
      "cell_type": "code",
      "source": [
        "# get first five preeictions\n",
        "predictions[0:5]"
      ],
      "metadata": {
        "id": "2H1y8kl1s9J8",
        "colab": {
          "base_uri": "https://localhost:8080/"
        },
        "outputId": "a65582dd-2189-40ac-9e2b-1bbaf3f0c872"
      },
      "execution_count": 21,
      "outputs": [
        {
          "output_type": "execute_result",
          "data": {
            "text/plain": [
              "['food', 'other', 'food', 'food', 'other']"
            ]
          },
          "metadata": {},
          "execution_count": 21
        }
      ]
    },
    {
      "cell_type": "markdown",
      "source": [
        "### <Font color = 'dodgerblue'>**Accuracy**\n",
        "- You might need to use more than one line of the code to complete this step\n",
        "- Now you have the actual Label and predicted Label for each sentence.\n",
        "- Calculate the overall acacuracy (Hint : you can use accuracy_score form from sklearn - `from sklearn.metrics import accuracy_score`\n"
      ],
      "metadata": {
        "id": "R7n4vKFt23Qs"
      }
    },
    {
      "cell_type": "code",
      "source": [
        "accuracy =  accuracy_score(train_data['final_label'].to_list(), predictions) * 100\n",
        "accuracy"
      ],
      "metadata": {
        "id": "pDSRjHgStHre",
        "colab": {
          "base_uri": "https://localhost:8080/"
        },
        "outputId": "8ea594b3-9b2b-43d6-fb5f-2e2bda8c1852"
      },
      "execution_count": 22,
      "outputs": [
        {
          "output_type": "execute_result",
          "data": {
            "text/plain": [
              "78.76712328767124"
            ]
          },
          "metadata": {},
          "execution_count": 22
        }
      ]
    },
    {
      "cell_type": "code",
      "source": [
        "# DO NOT RUN THIS CELL - If you have done everything correctly, you should get accurtacy close to reported below\n",
        "accuracy"
      ],
      "metadata": {
        "colab": {
          "base_uri": "https://localhost:8080/"
        },
        "outputId": "b2d9e3ca-6da7-4bbf-d945-f77e76daf740",
        "id": "dJr8JCJ0tHre"
      },
      "execution_count": 23,
      "outputs": [
        {
          "output_type": "execute_result",
          "data": {
            "text/plain": [
              "78.76712328767124"
            ]
          },
          "metadata": {},
          "execution_count": 23
        }
      ]
    },
    {
      "cell_type": "markdown",
      "source": [
        "### <Font color = 'dodgerblue'>**Classification Report**\n",
        "- Print the classification report\n",
        "- HINT- `from sklearn.metrics import classification_report`"
      ],
      "metadata": {
        "id": "YKEC44ii23Qs"
      }
    },
    {
      "cell_type": "code",
      "execution_count": 24,
      "metadata": {
        "id": "SPB653ZutXyw",
        "colab": {
          "base_uri": "https://localhost:8080/"
        },
        "outputId": "819e2038-ff00-4f2f-cefe-caec24913622"
      },
      "outputs": [
        {
          "output_type": "stream",
          "name": "stdout",
          "text": [
            "              precision    recall  f1-score   support\n",
            "\n",
            "       other       0.90      0.41      0.57        46\n",
            "    ambiance       0.88      0.84      0.86       279\n",
            "        food       0.60      0.91      0.72       139\n",
            "     service       0.93      0.68      0.78       120\n",
            "\n",
            "    accuracy                           0.79       584\n",
            "   macro avg       0.83      0.71      0.73       584\n",
            "weighted avg       0.83      0.79      0.79       584\n",
            "\n"
          ]
        }
      ],
      "source": [
        "# print classification report\n",
        "# CODE HERE\n",
        "class_report =  classification_report(train_data['final_label'].to_list(), predictions ,target_names=candidate_labels)\n",
        "print(class_report)"
      ]
    },
    {
      "cell_type": "code",
      "source": [
        "# DO NOT RUN THIS CELL - If you have done everything correctly, your report should look similar"
      ],
      "metadata": {
        "colab": {
          "base_uri": "https://localhost:8080/"
        },
        "outputId": "93bad17b-1f6a-4bc5-b7fe-7f406a20d2bb",
        "id": "l81zq5HUtXyx"
      },
      "execution_count": null,
      "outputs": [
        {
          "output_type": "stream",
          "name": "stdout",
          "text": [
            "              precision    recall  f1-score   support\n",
            "\n",
            "    ambiance       0.90      0.41      0.57        46\n",
            "        food       0.88      0.84      0.86       279\n",
            "       other       0.60      0.91      0.72       139\n",
            "     service       0.93      0.68      0.78       120\n",
            "\n",
            "    accuracy                           0.79       584\n",
            "   macro avg       0.83      0.71      0.73       584\n",
            "weighted avg       0.83      0.79      0.79       584\n",
            "\n"
          ]
        }
      ]
    },
    {
      "cell_type": "markdown",
      "source": [
        "### <Font color = 'dodgerblue'>**Compare the classification report** </font>\n",
        "\n",
        "Compare the classification report with previous experiment and provide your conclusion.\n",
        "\n",
        "**First main difference, the accuracy did increase drastically and so the case with precision,recall and f1-scores as well. The main reason for this is by providing context in our hypothesis template i.e \"restaurant's\".**"
      ],
      "metadata": {
        "id": "9gz7hRSB23Qs"
      }
    },
    {
      "cell_type": "markdown",
      "source": [
        "### <Font color = 'dodgerblue'>**Confusion Matrix**\n",
        "- You might need to use more than one line of the code to complete this step\n",
        "- Print confusionm matrix\n",
        "- Hint:use ConfusionMatrixDisplay.from_predictions from sklearn"
      ],
      "metadata": {
        "id": "HGU0AEUu23Qs"
      }
    },
    {
      "cell_type": "code",
      "source": [
        "# CODE HERE\n",
        "cm = confusion_matrix(train_data['final_label'].to_list(), predictions, labels=candidate_labels)\n",
        "disp = ConfusionMatrixDisplay(confusion_matrix=cm,display_labels=candidate_labels)\n",
        "disp.plot()\n",
        "plt.show()"
      ],
      "metadata": {
        "id": "bhjumxPmvF9c",
        "colab": {
          "base_uri": "https://localhost:8080/",
          "height": 449
        },
        "outputId": "6a675c42-3e6d-44d4-a692-9ec3f666926f"
      },
      "execution_count": 25,
      "outputs": [
        {
          "output_type": "display_data",
          "data": {
            "text/plain": [
              "<Figure size 640x480 with 2 Axes>"
            ],
            "image/png": "[encoded data removed]"
          },
          "metadata": {}
        }
      ]
    },
    {
      "cell_type": "code",
      "source": [
        "# DO NOT RUN THIS CELL - this gives you an idea of expected output. Your results might differ slightly"
      ],
      "metadata": {
        "colab": {
          "base_uri": "https://localhost:8080/",
          "height": 406
        },
        "outputId": "be48c23a-1849-4317-c4d8-8dc8df682129",
        "id": "mptbZQW_vF9c"
      },
      "execution_count": null,
      "outputs": [
        {
          "output_type": "execute_result",
          "data": {
            "text/plain": [
              "<sklearn.metrics._plot.confusion_matrix.ConfusionMatrixDisplay at 0x7f63984de980>"
            ]
          },
          "metadata": {},
          "execution_count": 63
        },
        {
          "output_type": "display_data",
          "data": {
            "text/plain": [
              "<Figure size 500x400 with 2 Axes>"
            ],
            "image/png": "[encoded data removed]"
          },
          "metadata": {}
        }
      ]
    },
    {
      "cell_type": "markdown",
      "source": [
        "###<Font color = 'dodgerblue'>**Conclusions from the Confusion Matrix** </font>\n",
        "\n",
        "What do you conclude from the Confusion Matrix (compare with previous experiment)?\n",
        "\n",
        "**In previous experiment(Task-1) there was an issue with ambiance true positivity rate, the issue seems to be existing here too but this experiment has a good true positivity rate compared to previous. \"service\" and \"other\" labels results improved significantly, which is a very good sign. All these clearly indicate how important including domain-specific context in hypothesis template.**\n"
      ],
      "metadata": {
        "id": "s2mVAmm-23Qs"
      }
    },
    {
      "cell_type": "markdown",
      "source": [
        "## <Font color = 'dodgerblue'>**Task3 : Use threshold probbaility to classify Others**.\n",
        "\n",
        "\n",
        "\n",
        "\n",
        "In this next experiment, you will explore a nuanced approach to classification by **only considering the labels 'food', 'service', and 'ambiance'**. This is a departure from the previous experiments, where you also included 'other' as a label, and it brings some key distinctions:\n",
        "\n",
        "Unlike traditional classification, where the probabilities across all labels sum to one, in this experiment, you'll assess the probabilities for just the three given labels.\n",
        "\n",
        "By not including 'other' as a label, you are essentially allowing the model to classify instances into 'other' if none of the given labels strongly apply. If the maximum probability across 'food', 'service', and 'ambiance' is less than the threshold, the instance is classified as 'other'.\n",
        "\n",
        "This approach not only recognizes that some instances may not fit neatly into one of the specific categories but also aims to refine the handling of those instances. It encourages a more flexible and discerning classification, possibly reducing misclassification.\n",
        "\n",
        "The task will allow you to explore how this method of classification, guided by a threshold, can impact the model's performance. It offers an insightful comparison with the previous approaches and underlines the significance of understanding the nature of your data, the relationships between categories, and selecting an appropriate classification strategy accordingly."
      ],
      "metadata": {
        "id": "t2n8UTav3O8L"
      }
    },
    {
      "cell_type": "markdown",
      "metadata": {
        "id": "DvH5d67U3WVa"
      },
      "source": [
        "### <Font color = 'dodgerblue'>**Create a list of reviews**"
      ]
    },
    {
      "cell_type": "code",
      "execution_count": 17,
      "metadata": {
        "id": "dKoj2rXB3WVa",
        "colab": {
          "base_uri": "https://localhost:8080/"
        },
        "outputId": "fa636df6-4529-43ab-a060-3cae56a6b01f"
      },
      "outputs": [
        {
          "output_type": "execute_result",
          "data": {
            "text/plain": [
              "['ambiance', 'food', 'service']"
            ]
          },
          "metadata": {},
          "execution_count": 17
        }
      ],
      "source": [
        "# create a list of reviews (hint use column.tolist() to convert pandas series to python list)\n",
        "texts_train =  train_data['text'].to_list()\n",
        "\n",
        "# list of labels\n",
        "candidate_labels =  list(set(train_data['final_label']))\n",
        "candidate_labels.remove(\"other\")\n",
        "candidate_labels"
      ]
    },
    {
      "cell_type": "markdown",
      "metadata": {
        "id": "_94oeSQB3WVb"
      },
      "source": [
        "### <Font color = 'dodgerblue'>**Get Probbailities**\n",
        "\n",
        "Pass the list of text and labels you craeted in the previous step to the classifier to get predictions."
      ]
    },
    {
      "cell_type": "code",
      "execution_count": 28,
      "metadata": {
        "execution": {
          "iopub.execute_input": "2022-11-27T12:01:45.594721Z",
          "iopub.status.busy": "2022-11-27T12:01:45.594481Z",
          "iopub.status.idle": "2022-11-27T12:01:50.801737Z",
          "shell.execute_reply": "2022-11-27T12:01:50.801068Z",
          "shell.execute_reply.started": "2022-11-27T12:01:45.594695Z"
        },
        "tags": [],
        "id": "KCkWBpr43WVb"
      },
      "outputs": [],
      "source": [
        "# pass the sequences, candiadte labels and hypothesis_template to the classifier\n",
        "# CODE HERE\n",
        "probs = zero_shot_classifier(texts_train,candidate_labels,hypothesis_template=\"This review is related to the restaurant's {}.\")"
      ]
    },
    {
      "cell_type": "code",
      "source": [
        "probs[0: 5]"
      ],
      "metadata": {
        "id": "J4ifIOjE1tpu",
        "colab": {
          "base_uri": "https://localhost:8080/"
        },
        "outputId": "6eef17f2-eb3b-4fb5-daca-2e3ae3c00738"
      },
      "execution_count": 29,
      "outputs": [
        {
          "output_type": "execute_result",
          "data": {
            "text/plain": [
              "[{'sequence': \"If you love unagi (eel) on rice, you'll absolutely enjoy their version.\",\n",
              "  'labels': ['food', 'service', 'ambiance'],\n",
              "  'scores': [0.9935776591300964,\n",
              "   0.0033422044944018126,\n",
              "   0.0030801871325820684]},\n",
              " {'sequence': 'But it is definitely worth the wait.',\n",
              "  'labels': ['food', 'service', 'ambiance'],\n",
              "  'scores': [0.4782298803329468, 0.38572168350219727, 0.13604843616485596]},\n",
              " {'sequence': 'Sometimes get the Pho w/ rare beef which is decent.',\n",
              "  'labels': ['food', 'ambiance', 'service'],\n",
              "  'scores': [0.9904888272285461, 0.00511078629642725, 0.004400411155074835]},\n",
              " {'sequence': 'Other items on this menu was a crab soup, duck and clams congee, 2 desserts (one chinese and one western) and free appetizers.',\n",
              "  'labels': ['food', 'service', 'ambiance'],\n",
              "  'scores': [0.9874481558799744, 0.006339206825941801, 0.006212593987584114]},\n",
              " {'sequence': 'I visited the restaurant for lunch and arrived there just after 12.30pm on a Sunday.',\n",
              "  'labels': ['food', 'ambiance', 'service'],\n",
              "  'scores': [0.7476781010627747, 0.13911722600460052, 0.11320469528436661]}]"
            ]
          },
          "metadata": {},
          "execution_count": 29
        }
      ]
    },
    {
      "cell_type": "markdown",
      "source": [
        "### <Font color = 'dodgerblue'>**Get Predictions** </font>\n",
        "\n",
        "In this experiment , you'll be considering three specific categories: 'food', 'service', 'ambiance', and classify any instance that doesn't fit these categories as 'other'. To make this decision, you will use a concept called a threshold.\n",
        "\n",
        "#### Understanding the Threshold Concept:\n",
        "The threshold is a cutoff value that helps determine the class labels based on predicted probabilities. Here's how it works:\n",
        "\n",
        "Imagine your model predicts the following probabilities for a review:\n",
        "- 'food': 0.7\n",
        "- 'service': 0.2\n",
        "- 'ambiance': 0.1\n",
        "\n",
        "With a threshold of 0.5, you check whether the highest probability (0.7 for 'food') is greater than this threshold. Since 0.7 > 0.5, the review is classified as 'food'. If the highest probability dees not surpass the threshold, you classify the review as 'other'. By adjusting the threshold, you control how confident the model must be to assign a particular label.\n",
        "\n",
        "**In this experiment, you will use a theshold of 0.8**"
      ],
      "metadata": {
        "id": "qLZ9WP3j3WVb"
      }
    },
    {
      "cell_type": "code",
      "source": [
        "threshold = 0.8"
      ],
      "metadata": {
        "id": "_z6Gdb7_zQg9"
      },
      "execution_count": 30,
      "outputs": []
    },
    {
      "cell_type": "code",
      "source": [
        "predictions =  []\n",
        "for review in probs:\n",
        "    max_score = max(review['scores'])\n",
        "    if max_score > threshold:\n",
        "        predictions.append(review['labels'][np.argmax(review['scores'])])\n",
        "    else:\n",
        "        predictions.append('other')"
      ],
      "metadata": {
        "id": "AyAK7DRjzRB0"
      },
      "execution_count": 31,
      "outputs": []
    },
    {
      "cell_type": "code",
      "source": [
        "# get first five predictions\n",
        "predictions[0:5]"
      ],
      "metadata": {
        "id": "LjdRb9ZSzRB0",
        "colab": {
          "base_uri": "https://localhost:8080/"
        },
        "outputId": "b250f534-d1ac-48e5-8733-4bd0e0062de5"
      },
      "execution_count": 32,
      "outputs": [
        {
          "output_type": "execute_result",
          "data": {
            "text/plain": [
              "['food', 'other', 'food', 'food', 'other']"
            ]
          },
          "metadata": {},
          "execution_count": 32
        }
      ]
    },
    {
      "cell_type": "markdown",
      "source": [
        "### <Font color = 'dodgerblue'>**Accuracy**\n",
        "- You might need to use more than one line of the code to complete this step\n",
        "- Now you have the True Label and predicted Label for each sentence.\n",
        "- Calculate the overall acacuracy (Hint : you can use accuracy_score form from sklearn - `from sklearn.metrics import accuracy_score`\n"
      ],
      "metadata": {
        "id": "ncT2Qh7R3WVb"
      }
    },
    {
      "cell_type": "code",
      "source": [
        "accuracy =  accuracy_score(train_data['final_label'].to_list(), predictions) * 100\n",
        "accuracy"
      ],
      "metadata": {
        "id": "myixU_Ky6OIl",
        "colab": {
          "base_uri": "https://localhost:8080/"
        },
        "outputId": "8a1c2561-7828-4ee1-8849-76cf58875a69"
      },
      "execution_count": 33,
      "outputs": [
        {
          "output_type": "execute_result",
          "data": {
            "text/plain": [
              "76.02739726027397"
            ]
          },
          "metadata": {},
          "execution_count": 33
        }
      ]
    },
    {
      "cell_type": "code",
      "source": [
        "# DO NOT RUN THIS CELL - If you have done everything correctly, you should get accurtacy close to reported below\n",
        "accuracy"
      ],
      "metadata": {
        "colab": {
          "base_uri": "https://localhost:8080/"
        },
        "outputId": "2a6fd581-3d6d-4d6f-9ed3-0666a9baaa3e",
        "id": "AkCb8Qeg6OIm"
      },
      "execution_count": null,
      "outputs": [
        {
          "output_type": "execute_result",
          "data": {
            "text/plain": [
              "76.02739726027397"
            ]
          },
          "metadata": {},
          "execution_count": 68
        }
      ]
    },
    {
      "cell_type": "markdown",
      "source": [
        "**The overall accurtacy has decreased. This might be the result of chosen threshold**"
      ],
      "metadata": {
        "id": "Wa-yI85Y4rlj"
      }
    },
    {
      "cell_type": "markdown",
      "source": [
        "### <Font color = 'dodgerblue'>**Classification Report**\n",
        "- Print the classification report\n",
        "- HINT- `from sklearn.metrics import classification_report`"
      ],
      "metadata": {
        "id": "AyzScDOh3WVb"
      }
    },
    {
      "cell_type": "code",
      "execution_count": 34,
      "metadata": {
        "id": "HnkXaUZP5qp5",
        "colab": {
          "base_uri": "https://localhost:8080/"
        },
        "outputId": "a1241926-f582-4447-eefd-5351612238c2"
      },
      "outputs": [
        {
          "output_type": "stream",
          "name": "stdout",
          "text": [
            "              precision    recall  f1-score   support\n",
            "\n",
            "    ambiance       0.95      0.41      0.58        46\n",
            "        food       0.91      0.85      0.88       279\n",
            "       other       0.53      0.88      0.66       139\n",
            "     service       0.93      0.53      0.68       120\n",
            "\n",
            "    accuracy                           0.76       584\n",
            "   macro avg       0.83      0.67      0.70       584\n",
            "weighted avg       0.83      0.76      0.76       584\n",
            "\n"
          ]
        }
      ],
      "source": [
        "# print classification report\n",
        "class_report =  classification_report(train_data['final_label'].to_list(), predictions)\n",
        "print(class_report)"
      ]
    },
    {
      "cell_type": "code",
      "source": [
        "# DO NOT RUN THIS CELL - If you have done everything correctly, your report should look similar"
      ],
      "metadata": {
        "colab": {
          "base_uri": "https://localhost:8080/"
        },
        "outputId": "fe74d9d0-eca7-48c4-afd4-35d973edbe40",
        "id": "kQXAlef_5qp5"
      },
      "execution_count": null,
      "outputs": [
        {
          "output_type": "stream",
          "name": "stdout",
          "text": [
            "              precision    recall  f1-score   support\n",
            "\n",
            "    ambiance       0.95      0.41      0.58        46\n",
            "        food       0.91      0.85      0.88       279\n",
            "       other       0.53      0.88      0.66       139\n",
            "     service       0.93      0.53      0.68       120\n",
            "\n",
            "    accuracy                           0.76       584\n",
            "   macro avg       0.83      0.67      0.70       584\n",
            "weighted avg       0.83      0.76      0.76       584\n",
            "\n"
          ]
        }
      ]
    },
    {
      "cell_type": "markdown",
      "source": [
        "### <Font color = 'dodgerblue'>**Compare the classification report** </font>\n",
        "\n",
        "Compare the classification report with previous experiment and provide your conclusion.\n",
        "\n",
        "**Acuraccy, F1-scores did decrese when compared with task-2 and still this experiment provided good set of results when compared with task-1.Maybe there might be issue with threshold value, adjusting it and finding an optimal value gives a better result.**"
      ],
      "metadata": {
        "id": "aEkpcLJm3WVb"
      }
    },
    {
      "cell_type": "markdown",
      "source": [
        "### <Font color = 'dodgerblue'>**Confusion Matrix**\n",
        "- You might need to use more than one line of the code to complete this step\n",
        "- Print confusionm matrix\n",
        "- Hint:`from sklearn.metrics import confusion_matrix``"
      ],
      "metadata": {
        "id": "MXuotn5J3WVb"
      }
    },
    {
      "cell_type": "code",
      "source": [
        "# CODE HERE\n",
        "cm = confusion_matrix(train_data['final_label'].to_list(), predictions)\n",
        "disp = ConfusionMatrixDisplay(confusion_matrix=cm)\n",
        "disp.plot()\n",
        "plt.show()"
      ],
      "metadata": {
        "id": "0k7-MSek2qPz",
        "colab": {
          "base_uri": "https://localhost:8080/",
          "height": 449
        },
        "outputId": "6339d9f6-014f-46ea-ac60-c86cfbdb63d4"
      },
      "execution_count": 35,
      "outputs": [
        {
          "output_type": "display_data",
          "data": {
            "text/plain": [
              "<Figure size 640x480 with 2 Axes>"
            ],
            "image/png": "[encoded data removed]"
          },
          "metadata": {}
        }
      ]
    },
    {
      "cell_type": "code",
      "source": [
        "# DO NOT RUN THIS CELL - this gives you an idea of expected output. Your results might differ slightly"
      ],
      "metadata": {
        "colab": {
          "base_uri": "https://localhost:8080/",
          "height": 406
        },
        "outputId": "2c9615e0-691a-421f-d522-0dd400380461",
        "id": "lBmgVsE42qPz"
      },
      "execution_count": null,
      "outputs": [
        {
          "output_type": "execute_result",
          "data": {
            "text/plain": [
              "<sklearn.metrics._plot.confusion_matrix.ConfusionMatrixDisplay at 0x7ff9c876bdf0>"
            ]
          },
          "metadata": {},
          "execution_count": 133
        },
        {
          "output_type": "display_data",
          "data": {
            "text/plain": [
              "<Figure size 500x400 with 2 Axes>"
            ],
            "image/png": "[encoded data removed]"
          },
          "metadata": {}
        }
      ]
    },
    {
      "cell_type": "markdown",
      "source": [
        "###<Font color = 'dodgerblue'>**Conclusions from the Confusion Matrix** </font>\n",
        "\n",
        "What do you conclude from the Confusion Matrix (compare with previous experiments?\n",
        "\n",
        "**The confusion matrix looks pretty much similar to previous task except there are few catchy points. When Ambiance label is concerned, it does have that true positive rate similar to task-2 but false negetive rate is high.This might be the reason for low accuracy. Maybe there might be issue with threshold value, adjusting it and finding an optimal value gives a better result.**\n"
      ],
      "metadata": {
        "id": "Ntk8kWWt3WVb"
      }
    },
    {
      "cell_type": "markdown",
      "source": [
        "## <Font color = 'dodgerblue'>**BONUS TASK (Not Graded) - Function to choose threshold to maximize accuracy**.\n",
        "\n",
        "Let us assume that our business goal is to maximize accuracy.\n",
        "Write a function to determine the optimal threshold (maximum accuracy for classification) and to provide predictions that align with that threshold. You will also keep track of accuracy at each threshold level.\n",
        "\n",
        "#### Pseudo Code:\n",
        "\n",
        "```plaintext\n",
        "1. Function predict_labels(probs, actual_labels, thresholds=[0.5]):\n",
        "2.     Initialize best_threshold = 0\n",
        "3.     Initialize best_accuracy = 0\n",
        "4.     Initialize best_predictions = empty list\n",
        "5.     Initialize accuracy_history = empty list\n",
        "6.     FOR EACH threshold IN thresholds:\n",
        "7.         Initialize predictions = empty list\n",
        "8.         FOR EACH prob IN probs:\n",
        "9.             Extract max_prob as the highest score among the probabilities in prob['scores']\n",
        "10.            IF max_prob > current threshold THEN:\n",
        "11.                Append the corresponding label to predictions (e.g., 'food')\n",
        "12.            ELSE:\n",
        "13.                Append 'other' to predictions\n",
        "14.            END IF\n",
        "15.        END FOR EACH prob\n",
        "16.        Calculate accuracy using accuracy_score comparing predictions with actual_labels\n",
        "17.        Append the accuracy to accuracy_history\n",
        "18.        IF current accuracy > best_accuracy THEN:\n",
        "19.            Update best_threshold, best_accuracy, and best_predictions\n",
        "20.        END IF\n",
        "21.    END FOR EACH threshold\n",
        "22.    Return best_threshold, best_predictions and accuracy_history\n",
        "23. END Function\n",
        "```"
      ],
      "metadata": {
        "id": "_W7JAL203ezi"
      }
    },
    {
      "cell_type": "code",
      "source": [
        "def predict_labels(probs, actual_labels, thresholds=[0.5]):\n",
        "  # CODE HERE\n",
        "\n"
      ],
      "metadata": {
        "id": "2UJ26tGbygQo"
      },
      "execution_count": null,
      "outputs": []
    },
    {
      "cell_type": "markdown",
      "source": [
        "### <Font color = 'dodgerblue'>**Get best predictions and threshold**\n",
        "Use the function to get best_threshold, best_predictions and accuracy_history"
      ],
      "metadata": {
        "id": "P83x-WBm3ezj"
      }
    },
    {
      "cell_type": "code",
      "source": [
        "thresholds=np.linspace(0.1, 0.95, 18)\n",
        "thresholds"
      ],
      "metadata": {
        "colab": {
          "base_uri": "https://localhost:8080/"
        },
        "id": "83jligUWyyrV",
        "outputId": "b1e8e77a-e00e-4e1b-80f4-6f9daf8b7682"
      },
      "execution_count": null,
      "outputs": [
        {
          "output_type": "execute_result",
          "data": {
            "text/plain": [
              "array([0.1 , 0.15, 0.2 , 0.25, 0.3 , 0.35, 0.4 , 0.45, 0.5 , 0.55, 0.6 ,\n",
              "       0.65, 0.7 , 0.75, 0.8 , 0.85, 0.9 , 0.95])"
            ]
          },
          "metadata": {},
          "execution_count": 54
        }
      ]
    },
    {
      "cell_type": "code",
      "source": [
        "actual_labels = train_data['final_label'].values"
      ],
      "metadata": {
        "id": "h8A5UORny6pD"
      },
      "execution_count": null,
      "outputs": []
    },
    {
      "cell_type": "code",
      "source": [
        "best_threshold, best_predictions, accuracy_history =  # CODE HERE"
      ],
      "metadata": {
        "id": "CC9yEu-fy6pD"
      },
      "execution_count": null,
      "outputs": []
    },
    {
      "cell_type": "code",
      "source": [
        "best_threshold"
      ],
      "metadata": {
        "id": "fliTkxTCSXuV"
      },
      "execution_count": null,
      "outputs": []
    },
    {
      "cell_type": "code",
      "source": [
        "# DO NOT RUN THIS CELL - your best threshold will be close to the result below"
      ],
      "metadata": {
        "colab": {
          "base_uri": "https://localhost:8080/"
        },
        "outputId": "96a6b758-42cf-49ad-9fcf-50cc49dd5db2",
        "id": "xPd_Pt3ry6pD"
      },
      "execution_count": null,
      "outputs": [
        {
          "output_type": "execute_result",
          "data": {
            "text/plain": [
              "0.6"
            ]
          },
          "metadata": {},
          "execution_count": 139
        }
      ]
    },
    {
      "cell_type": "code",
      "source": [
        "best_predictions[0:5]"
      ],
      "metadata": {
        "id": "mGmo4rPMy6pD"
      },
      "execution_count": null,
      "outputs": []
    },
    {
      "cell_type": "markdown",
      "source": [
        "### <Font color = 'dodgerblue'>**Accuracy**\n",
        "Plot accuracy_history against thresholds\n"
      ],
      "metadata": {
        "id": "Q_k8aK-M3ezj"
      }
    },
    {
      "cell_type": "code",
      "source": [
        "# CODE HERE"
      ],
      "metadata": {
        "id": "KadwyerGSnCg"
      },
      "execution_count": null,
      "outputs": []
    },
    {
      "cell_type": "code",
      "source": [
        "# DO NOT RUN THIS CELL - this gives you an idea of how the graog will look\n"
      ],
      "metadata": {
        "colab": {
          "base_uri": "https://localhost:8080/",
          "height": 470
        },
        "id": "Yqs2Xikc5kFs",
        "outputId": "541ba31a-4d6f-427b-972b-fb50c56e1a89"
      },
      "execution_count": null,
      "outputs": [
        {
          "output_type": "display_data",
          "data": {
            "text/plain": [
              "<Figure size 640x480 with 1 Axes>"
            ],
            "image/png": "[encoded data removed]"
          },
          "metadata": {}
        }
      ]
    },
    {
      "cell_type": "code",
      "source": [
        "# Best  Accuracy\n",
        "accuracy = # CODE HERE\n",
        "accuracy"
      ],
      "metadata": {
        "id": "EeWKpvAYS5T8"
      },
      "execution_count": null,
      "outputs": []
    },
    {
      "cell_type": "code",
      "source": [
        "# DO NOT RUN THIS CELL - If you have done everything correctly, you should get accurtacy close to reported below"
      ],
      "metadata": {
        "colab": {
          "base_uri": "https://localhost:8080/"
        },
        "id": "gl5rRx_r50BJ",
        "outputId": "1aae1328-e26d-477d-e65c-0153ef1c4c45"
      },
      "execution_count": null,
      "outputs": [
        {
          "output_type": "execute_result",
          "data": {
            "text/plain": [
              "80.13698630136986"
            ]
          },
          "metadata": {},
          "execution_count": 144
        }
      ]
    },
    {
      "cell_type": "markdown",
      "source": [
        "Is the accuracy better than Task 2?\n",
        "\n",
        "**We can see that accuracy has slightly improved from Task2 (where we passed all four labels)**"
      ],
      "metadata": {
        "id": "hudKC0eq6Y0N"
      }
    },
    {
      "cell_type": "markdown",
      "source": [
        "### <Font color = 'dodgerblue'>**Confusion Matrix**"
      ],
      "metadata": {
        "id": "VC13lEJ47bhK"
      }
    },
    {
      "cell_type": "code",
      "source": [
        "# CODE HERE\n"
      ],
      "metadata": {
        "id": "yIS3NwM57bhK"
      },
      "execution_count": null,
      "outputs": []
    },
    {
      "cell_type": "code",
      "source": [
        "# CODE HERE"
      ],
      "metadata": {
        "id": "-T0aKYa7TLKa"
      },
      "execution_count": null,
      "outputs": []
    },
    {
      "cell_type": "code",
      "source": [
        "# DO NOT RUN THIS CELL - this gives you an idea of expected output. Your results might differ slightly"
      ],
      "metadata": {
        "colab": {
          "base_uri": "https://localhost:8080/",
          "height": 406
        },
        "outputId": "2ec8f2b1-c231-45d4-e96e-1fa3acd60b05",
        "id": "BSBNcWgZ7bhK"
      },
      "execution_count": null,
      "outputs": [
        {
          "output_type": "execute_result",
          "data": {
            "text/plain": [
              "<sklearn.metrics._plot.confusion_matrix.ConfusionMatrixDisplay at 0x7ff9c85d0df0>"
            ]
          },
          "metadata": {},
          "execution_count": 148
        },
        {
          "output_type": "display_data",
          "data": {
            "text/plain": [
              "<Figure size 500x400 with 2 Axes>"
            ],
            "image/png": "[encoded data removed]"
          },
          "metadata": {}
        }
      ]
    }
  ],
  "metadata": {
    "accelerator": "GPU",
    "colab": {
      "gpuType": "T4",
      "provenance": [],
      "toc_visible": true
    },
    "kernelspec": {
      "display_name": "Python 3",
      "name": "python3"
    },
    "language_info": {
      "codemirror_mode": {
        "name": "ipython",
        "version": 3
      },
      "file_extension": ".py",
      "mimetype": "text/x-python",
      "name": "python",
      "nbconvert_exporter": "python",
      "pygments_lexer": "ipython3",
      "version": "3.10.10"
    },
    "widgets": {
      "application/vnd.jupyter.widget-state+json": {
        "88c255ac123f4e7fb01ba622649df6f8": {
          "model_module": "@jupyter-widgets/controls",
          "model_name": "HBoxModel",
          "model_module_version": "1.5.0",
          "state": {
            "_dom_classes": [],
            "_model_module": "@jupyter-widgets/controls",
            "_model_module_version": "1.5.0",
            "_model_name": "HBoxModel",
            "_view_count": null,
            "_view_module": "@jupyter-widgets/controls",
            "_view_module_version": "1.5.0",
            "_view_name": "HBoxView",
            "box_style": "",
            "children": [
              "IPY_MODEL_631a8a12410f4e6c9b08d1f1d85f6eee",
              "IPY_MODEL_e65c807d483e4ed9b4aac77bb78b1b42",
              "IPY_MODEL_109ac61926f648968a2a8136fbc4f44d"
            ],
            "layout": "IPY_MODEL_3d7db48e11634b57b22c8c8dbe93c6a9"
          }
        },
        "631a8a12410f4e6c9b08d1f1d85f6eee": {
          "model_module": "@jupyter-widgets/controls",
          "model_name": "HTMLModel",
          "model_module_version": "1.5.0",
          "state": {
            "_dom_classes": [],
            "_model_module": "@jupyter-widgets/controls",
            "_model_module_version": "1.5.0",
            "_model_name": "HTMLModel",
            "_view_count": null,
            "_view_module": "@jupyter-widgets/controls",
            "_view_module_version": "1.5.0",
            "_view_name": "HTMLView",
            "description": "",
            "description_tooltip": null,
            "layout": "IPY_MODEL_5e2934ccdd1143a98d3598531508da9d",
            "placeholder": "​",
            "style": "IPY_MODEL_bac2dffcce954f599d729c1fb4d79d22",
            "value": "Downloading (…)lve/main/config.json: 100%"
          }
        },
        "e65c807d483e4ed9b4aac77bb78b1b42": {
          "model_module": "@jupyter-widgets/controls",
          "model_name": "FloatProgressModel",
          "model_module_version": "1.5.0",
          "state": {
            "_dom_classes": [],
            "_model_module": "@jupyter-widgets/controls",
            "_model_module_version": "1.5.0",
            "_model_name": "FloatProgressModel",
            "_view_count": null,
            "_view_module": "@jupyter-widgets/controls",
            "_view_module_version": "1.5.0",
            "_view_name": "ProgressView",
            "bar_style": "success",
            "description": "",
            "description_tooltip": null,
            "layout": "IPY_MODEL_d99ac6a91b2b487d9cf3bd551beb7971",
            "max": 1154,
            "min": 0,
            "orientation": "horizontal",
            "style": "IPY_MODEL_1e8f33d1d44b4691854a29171f33a01f",
            "value": 1154
          }
        },
        "109ac61926f648968a2a8136fbc4f44d": {
          "model_module": "@jupyter-widgets/controls",
          "model_name": "HTMLModel",
          "model_module_version": "1.5.0",
          "state": {
            "_dom_classes": [],
            "_model_module": "@jupyter-widgets/controls",
            "_model_module_version": "1.5.0",
            "_model_name": "HTMLModel",
            "_view_count": null,
            "_view_module": "@jupyter-widgets/controls",
            "_view_module_version": "1.5.0",
            "_view_name": "HTMLView",
            "description": "",
            "description_tooltip": null,
            "layout": "IPY_MODEL_af05cfcf16a24e93a3ed214c94aeeccb",
            "placeholder": "​",
            "style": "IPY_MODEL_49136021e0c847928b679724cca5736a",
            "value": " 1.15k/1.15k [00:00&lt;00:00, 71.3kB/s]"
          }
        },
        "3d7db48e11634b57b22c8c8dbe93c6a9": {
          "model_module": "@jupyter-widgets/base",
          "model_name": "LayoutModel",
          "model_module_version": "1.2.0",
          "state": {
            "_model_module": "@jupyter-widgets/base",
            "_model_module_version": "1.2.0",
            "_model_name": "LayoutModel",
            "_view_count": null,
            "_view_module": "@jupyter-widgets/base",
            "_view_module_version": "1.2.0",
            "_view_name": "LayoutView",
            "align_content": null,
            "align_items": null,
            "align_self": null,
            "border": null,
            "bottom": null,
            "display": null,
            "flex": null,
            "flex_flow": null,
            "grid_area": null,
            "grid_auto_columns": null,
            "grid_auto_flow": null,
            "grid_auto_rows": null,
            "grid_column": null,
            "grid_gap": null,
            "grid_row": null,
            "grid_template_areas": null,
            "grid_template_columns": null,
            "grid_template_rows": null,
            "height": null,
            "justify_content": null,
            "justify_items": null,
            "left": null,
            "margin": null,
            "max_height": null,
            "max_width": null,
            "min_height": null,
            "min_width": null,
            "object_fit": null,
            "object_position": null,
            "order": null,
            "overflow": null,
            "overflow_x": null,
            "overflow_y": null,
            "padding": null,
            "right": null,
            "top": null,
            "visibility": null,
            "width": null
          }
        },
        "5e2934ccdd1143a98d3598531508da9d": {
          "model_module": "@jupyter-widgets/base",
          "model_name": "LayoutModel",
          "model_module_version": "1.2.0",
          "state": {
            "_model_module": "@jupyter-widgets/base",
            "_model_module_version": "1.2.0",
            "_model_name": "LayoutModel",
            "_view_count": null,
            "_view_module": "@jupyter-widgets/base",
            "_view_module_version": "1.2.0",
            "_view_name": "LayoutView",
            "align_content": null,
            "align_items": null,
            "align_self": null,
            "border": null,
            "bottom": null,
            "display": null,
            "flex": null,
            "flex_flow": null,
            "grid_area": null,
            "grid_auto_columns": null,
            "grid_auto_flow": null,
            "grid_auto_rows": null,
            "grid_column": null,
            "grid_gap": null,
            "grid_row": null,
            "grid_template_areas": null,
            "grid_template_columns": null,
            "grid_template_rows": null,
            "height": null,
            "justify_content": null,
            "justify_items": null,
            "left": null,
            "margin": null,
            "max_height": null,
            "max_width": null,
            "min_height": null,
            "min_width": null,
            "object_fit": null,
            "object_position": null,
            "order": null,
            "overflow": null,
            "overflow_x": null,
            "overflow_y": null,
            "padding": null,
            "right": null,
            "top": null,
            "visibility": null,
            "width": null
          }
        },
        "bac2dffcce954f599d729c1fb4d79d22": {
          "model_module": "@jupyter-widgets/controls",
          "model_name": "DescriptionStyleModel",
          "model_module_version": "1.5.0",
          "state": {
            "_model_module": "@jupyter-widgets/controls",
            "_model_module_version": "1.5.0",
            "_model_name": "DescriptionStyleModel",
            "_view_count": null,
            "_view_module": "@jupyter-widgets/base",
            "_view_module_version": "1.2.0",
            "_view_name": "StyleView",
            "description_width": ""
          }
        },
        "d99ac6a91b2b487d9cf3bd551beb7971": {
          "model_module": "@jupyter-widgets/base",
          "model_name": "LayoutModel",
          "model_module_version": "1.2.0",
          "state": {
            "_model_module": "@jupyter-widgets/base",
            "_model_module_version": "1.2.0",
            "_model_name": "LayoutModel",
            "_view_count": null,
            "_view_module": "@jupyter-widgets/base",
            "_view_module_version": "1.2.0",
            "_view_name": "LayoutView",
            "align_content": null,
            "align_items": null,
            "align_self": null,
            "border": null,
            "bottom": null,
            "display": null,
            "flex": null,
            "flex_flow": null,
            "grid_area": null,
            "grid_auto_columns": null,
            "grid_auto_flow": null,
            "grid_auto_rows": null,
            "grid_column": null,
            "grid_gap": null,
            "grid_row": null,
            "grid_template_areas": null,
            "grid_template_columns": null,
            "grid_template_rows": null,
            "height": null,
            "justify_content": null,
            "justify_items": null,
            "left": null,
            "margin": null,
            "max_height": null,
            "max_width": null,
            "min_height": null,
            "min_width": null,
            "object_fit": null,
            "object_position": null,
            "order": null,
            "overflow": null,
            "overflow_x": null,
            "overflow_y": null,
            "padding": null,
            "right": null,
            "top": null,
            "visibility": null,
            "width": null
          }
        },
        "1e8f33d1d44b4691854a29171f33a01f": {
          "model_module": "@jupyter-widgets/controls",
          "model_name": "ProgressStyleModel",
          "model_module_version": "1.5.0",
          "state": {
            "_model_module": "@jupyter-widgets/controls",
            "_model_module_version": "1.5.0",
            "_model_name": "ProgressStyleModel",
            "_view_count": null,
            "_view_module": "@jupyter-widgets/base",
            "_view_module_version": "1.2.0",
            "_view_name": "StyleView",
            "bar_color": null,
            "description_width": ""
          }
        },
        "af05cfcf16a24e93a3ed214c94aeeccb": {
          "model_module": "@jupyter-widgets/base",
          "model_name": "LayoutModel",
          "model_module_version": "1.2.0",
          "state": {
            "_model_module": "@jupyter-widgets/base",
            "_model_module_version": "1.2.0",
            "_model_name": "LayoutModel",
            "_view_count": null,
            "_view_module": "@jupyter-widgets/base",
            "_view_module_version": "1.2.0",
            "_view_name": "LayoutView",
            "align_content": null,
            "align_items": null,
            "align_self": null,
            "border": null,
            "bottom": null,
            "display": null,
            "flex": null,
            "flex_flow": null,
            "grid_area": null,
            "grid_auto_columns": null,
            "grid_auto_flow": null,
            "grid_auto_rows": null,
            "grid_column": null,
            "grid_gap": null,
            "grid_row": null,
            "grid_template_areas": null,
            "grid_template_columns": null,
            "grid_template_rows": null,
            "height": null,
            "justify_content": null,
            "justify_items": null,
            "left": null,
            "margin": null,
            "max_height": null,
            "max_width": null,
            "min_height": null,
            "min_width": null,
            "object_fit": null,
            "object_position": null,
            "order": null,
            "overflow": null,
            "overflow_x": null,
            "overflow_y": null,
            "padding": null,
            "right": null,
            "top": null,
            "visibility": null,
            "width": null
          }
        },
        "49136021e0c847928b679724cca5736a": {
          "model_module": "@jupyter-widgets/controls",
          "model_name": "DescriptionStyleModel",
          "model_module_version": "1.5.0",
          "state": {
            "_model_module": "@jupyter-widgets/controls",
            "_model_module_version": "1.5.0",
            "_model_name": "DescriptionStyleModel",
            "_view_count": null,
            "_view_module": "@jupyter-widgets/base",
            "_view_module_version": "1.2.0",
            "_view_name": "StyleView",
            "description_width": ""
          }
        },
        "540231b7a6c3465498f69eeb9172d13c": {
          "model_module": "@jupyter-widgets/controls",
          "model_name": "HBoxModel",
          "model_module_version": "1.5.0",
          "state": {
            "_dom_classes": [],
            "_model_module": "@jupyter-widgets/controls",
            "_model_module_version": "1.5.0",
            "_model_name": "HBoxModel",
            "_view_count": null,
            "_view_module": "@jupyter-widgets/controls",
            "_view_module_version": "1.5.0",
            "_view_name": "HBoxView",
            "box_style": "",
            "children": [
              "IPY_MODEL_681e127d47724ebda85122657f2f6079",
              "IPY_MODEL_37f1f39161194f34ab241afc8ad4d657",
              "IPY_MODEL_67594ae771774084a3e780871ed4a7d4"
            ],
            "layout": "IPY_MODEL_9594a5787074455e8d4ebd3af926c1b8"
          }
        },
        "681e127d47724ebda85122657f2f6079": {
          "model_module": "@jupyter-widgets/controls",
          "model_name": "HTMLModel",
          "model_module_version": "1.5.0",
          "state": {
            "_dom_classes": [],
            "_model_module": "@jupyter-widgets/controls",
            "_model_module_version": "1.5.0",
            "_model_name": "HTMLModel",
            "_view_count": null,
            "_view_module": "@jupyter-widgets/controls",
            "_view_module_version": "1.5.0",
            "_view_name": "HTMLView",
            "description": "",
            "description_tooltip": null,
            "layout": "IPY_MODEL_3d2e8115baf44beab292945eadcc7431",
            "placeholder": "​",
            "style": "IPY_MODEL_0d6a5280f1a24424aeeebc5fc53f5c2d",
            "value": "Downloading model.safetensors: 100%"
          }
        },
        "37f1f39161194f34ab241afc8ad4d657": {
          "model_module": "@jupyter-widgets/controls",
          "model_name": "FloatProgressModel",
          "model_module_version": "1.5.0",
          "state": {
            "_dom_classes": [],
            "_model_module": "@jupyter-widgets/controls",
            "_model_module_version": "1.5.0",
            "_model_name": "FloatProgressModel",
            "_view_count": null,
            "_view_module": "@jupyter-widgets/controls",
            "_view_module_version": "1.5.0",
            "_view_name": "ProgressView",
            "bar_style": "success",
            "description": "",
            "description_tooltip": null,
            "layout": "IPY_MODEL_0c67700acd884bd7ac0a6a3add559855",
            "max": 1629437147,
            "min": 0,
            "orientation": "horizontal",
            "style": "IPY_MODEL_8e29b6cdc02145eaac0293b33a042eff",
            "value": 1629437147
          }
        },
        "67594ae771774084a3e780871ed4a7d4": {
          "model_module": "@jupyter-widgets/controls",
          "model_name": "HTMLModel",
          "model_module_version": "1.5.0",
          "state": {
            "_dom_classes": [],
            "_model_module": "@jupyter-widgets/controls",
            "_model_module_version": "1.5.0",
            "_model_name": "HTMLModel",
            "_view_count": null,
            "_view_module": "@jupyter-widgets/controls",
            "_view_module_version": "1.5.0",
            "_view_name": "HTMLView",
            "description": "",
            "description_tooltip": null,
            "layout": "IPY_MODEL_ad75fd79f5dc4d3dafc269056e9a5e1e",
            "placeholder": "​",
            "style": "IPY_MODEL_c0b53509019e4f0caa59bf3f320a4056",
            "value": " 1.63G/1.63G [00:20&lt;00:00, 81.4MB/s]"
          }
        },
        "9594a5787074455e8d4ebd3af926c1b8": {
          "model_module": "@jupyter-widgets/base",
          "model_name": "LayoutModel",
          "model_module_version": "1.2.0",
          "state": {
            "_model_module": "@jupyter-widgets/base",
            "_model_module_version": "1.2.0",
            "_model_name": "LayoutModel",
            "_view_count": null,
            "_view_module": "@jupyter-widgets/base",
            "_view_module_version": "1.2.0",
            "_view_name": "LayoutView",
            "align_content": null,
            "align_items": null,
            "align_self": null,
            "border": null,
            "bottom": null,
            "display": null,
            "flex": null,
            "flex_flow": null,
            "grid_area": null,
            "grid_auto_columns": null,
            "grid_auto_flow": null,
            "grid_auto_rows": null,
            "grid_column": null,
            "grid_gap": null,
            "grid_row": null,
            "grid_template_areas": null,
            "grid_template_columns": null,
            "grid_template_rows": null,
            "height": null,
            "justify_content": null,
            "justify_items": null,
            "left": null,
            "margin": null,
            "max_height": null,
            "max_width": null,
            "min_height": null,
            "min_width": null,
            "object_fit": null,
            "object_position": null,
            "order": null,
            "overflow": null,
            "overflow_x": null,
            "overflow_y": null,
            "padding": null,
            "right": null,
            "top": null,
            "visibility": null,
            "width": null
          }
        },
        "3d2e8115baf44beab292945eadcc7431": {
          "model_module": "@jupyter-widgets/base",
          "model_name": "LayoutModel",
          "model_module_version": "1.2.0",
          "state": {
            "_model_module": "@jupyter-widgets/base",
            "_model_module_version": "1.2.0",
            "_model_name": "LayoutModel",
            "_view_count": null,
            "_view_module": "@jupyter-widgets/base",
            "_view_module_version": "1.2.0",
            "_view_name": "LayoutView",
            "align_content": null,
            "align_items": null,
            "align_self": null,
            "border": null,
            "bottom": null,
            "display": null,
            "flex": null,
            "flex_flow": null,
            "grid_area": null,
            "grid_auto_columns": null,
            "grid_auto_flow": null,
            "grid_auto_rows": null,
            "grid_column": null,
            "grid_gap": null,
            "grid_row": null,
            "grid_template_areas": null,
            "grid_template_columns": null,
            "grid_template_rows": null,
            "height": null,
            "justify_content": null,
            "justify_items": null,
            "left": null,
            "margin": null,
            "max_height": null,
            "max_width": null,
            "min_height": null,
            "min_width": null,
            "object_fit": null,
            "object_position": null,
            "order": null,
            "overflow": null,
            "overflow_x": null,
            "overflow_y": null,
            "padding": null,
            "right": null,
            "top": null,
            "visibility": null,
            "width": null
          }
        },
        "0d6a5280f1a24424aeeebc5fc53f5c2d": {
          "model_module": "@jupyter-widgets/controls",
          "model_name": "DescriptionStyleModel",
          "model_module_version": "1.5.0",
          "state": {
            "_model_module": "@jupyter-widgets/controls",
            "_model_module_version": "1.5.0",
            "_model_name": "DescriptionStyleModel",
            "_view_count": null,
            "_view_module": "@jupyter-widgets/base",
            "_view_module_version": "1.2.0",
            "_view_name": "StyleView",
            "description_width": ""
          }
        },
        "0c67700acd884bd7ac0a6a3add559855": {
          "model_module": "@jupyter-widgets/base",
          "model_name": "LayoutModel",
          "model_module_version": "1.2.0",
          "state": {
            "_model_module": "@jupyter-widgets/base",
            "_model_module_version": "1.2.0",
            "_model_name": "LayoutModel",
            "_view_count": null,
            "_view_module": "@jupyter-widgets/base",
            "_view_module_version": "1.2.0",
            "_view_name": "LayoutView",
            "align_content": null,
            "align_items": null,
            "align_self": null,
            "border": null,
            "bottom": null,
            "display": null,
            "flex": null,
            "flex_flow": null,
            "grid_area": null,
            "grid_auto_columns": null,
            "grid_auto_flow": null,
            "grid_auto_rows": null,
            "grid_column": null,
            "grid_gap": null,
            "grid_row": null,
            "grid_template_areas": null,
            "grid_template_columns": null,
            "grid_template_rows": null,
            "height": null,
            "justify_content": null,
            "justify_items": null,
            "left": null,
            "margin": null,
            "max_height": null,
            "max_width": null,
            "min_height": null,
            "min_width": null,
            "object_fit": null,
            "object_position": null,
            "order": null,
            "overflow": null,
            "overflow_x": null,
            "overflow_y": null,
            "padding": null,
            "right": null,
            "top": null,
            "visibility": null,
            "width": null
          }
        },
        "8e29b6cdc02145eaac0293b33a042eff": {
          "model_module": "@jupyter-widgets/controls",
          "model_name": "ProgressStyleModel",
          "model_module_version": "1.5.0",
          "state": {
            "_model_module": "@jupyter-widgets/controls",
            "_model_module_version": "1.5.0",
            "_model_name": "ProgressStyleModel",
            "_view_count": null,
            "_view_module": "@jupyter-widgets/base",
            "_view_module_version": "1.2.0",
            "_view_name": "StyleView",
            "bar_color": null,
            "description_width": ""
          }
        },
        "ad75fd79f5dc4d3dafc269056e9a5e1e": {
          "model_module": "@jupyter-widgets/base",
          "model_name": "LayoutModel",
          "model_module_version": "1.2.0",
          "state": {
            "_model_module": "@jupyter-widgets/base",
            "_model_module_version": "1.2.0",
            "_model_name": "LayoutModel",
            "_view_count": null,
            "_view_module": "@jupyter-widgets/base",
            "_view_module_version": "1.2.0",
            "_view_name": "LayoutView",
            "align_content": null,
            "align_items": null,
            "align_self": null,
            "border": null,
            "bottom": null,
            "display": null,
            "flex": null,
            "flex_flow": null,
            "grid_area": null,
            "grid_auto_columns": null,
            "grid_auto_flow": null,
            "grid_auto_rows": null,
            "grid_column": null,
            "grid_gap": null,
            "grid_row": null,
            "grid_template_areas": null,
            "grid_template_columns": null,
            "grid_template_rows": null,
            "height": null,
            "justify_content": null,
            "justify_items": null,
            "left": null,
            "margin": null,
            "max_height": null,
            "max_width": null,
            "min_height": null,
            "min_width": null,
            "object_fit": null,
            "object_position": null,
            "order": null,
            "overflow": null,
            "overflow_x": null,
            "overflow_y": null,
            "padding": null,
            "right": null,
            "top": null,
            "visibility": null,
            "width": null
          }
        },
        "c0b53509019e4f0caa59bf3f320a4056": {
          "model_module": "@jupyter-widgets/controls",
          "model_name": "DescriptionStyleModel",
          "model_module_version": "1.5.0",
          "state": {
            "_model_module": "@jupyter-widgets/controls",
            "_model_module_version": "1.5.0",
            "_model_name": "DescriptionStyleModel",
            "_view_count": null,
            "_view_module": "@jupyter-widgets/base",
            "_view_module_version": "1.2.0",
            "_view_name": "StyleView",
            "description_width": ""
          }
        },
        "7eba52d5673e40c78ad75c9e89d882f9": {
          "model_module": "@jupyter-widgets/controls",
          "model_name": "HBoxModel",
          "model_module_version": "1.5.0",
          "state": {
            "_dom_classes": [],
            "_model_module": "@jupyter-widgets/controls",
            "_model_module_version": "1.5.0",
            "_model_name": "HBoxModel",
            "_view_count": null,
            "_view_module": "@jupyter-widgets/controls",
            "_view_module_version": "1.5.0",
            "_view_name": "HBoxView",
            "box_style": "",
            "children": [
              "IPY_MODEL_f2a0373962df42eeaff039f3367012e8",
              "IPY_MODEL_97548c0e314644c7a157c83626ff4f11",
              "IPY_MODEL_10656b4053b74c6086bcc04397c01334"
            ],
            "layout": "IPY_MODEL_62ed077bf227486390c24be4cf06e18f"
          }
        },
        "f2a0373962df42eeaff039f3367012e8": {
          "model_module": "@jupyter-widgets/controls",
          "model_name": "HTMLModel",
          "model_module_version": "1.5.0",
          "state": {
            "_dom_classes": [],
            "_model_module": "@jupyter-widgets/controls",
            "_model_module_version": "1.5.0",
            "_model_name": "HTMLModel",
            "_view_count": null,
            "_view_module": "@jupyter-widgets/controls",
            "_view_module_version": "1.5.0",
            "_view_name": "HTMLView",
            "description": "",
            "description_tooltip": null,
            "layout": "IPY_MODEL_ba7e9e5298c04a46a8223a6a42f564fe",
            "placeholder": "​",
            "style": "IPY_MODEL_313b1e2e726f444194c1812d33559fe7",
            "value": "Downloading (…)okenizer_config.json: 100%"
          }
        },
        "97548c0e314644c7a157c83626ff4f11": {
          "model_module": "@jupyter-widgets/controls",
          "model_name": "FloatProgressModel",
          "model_module_version": "1.5.0",
          "state": {
            "_dom_classes": [],
            "_model_module": "@jupyter-widgets/controls",
            "_model_module_version": "1.5.0",
            "_model_name": "FloatProgressModel",
            "_view_count": null,
            "_view_module": "@jupyter-widgets/controls",
            "_view_module_version": "1.5.0",
            "_view_name": "ProgressView",
            "bar_style": "success",
            "description": "",
            "description_tooltip": null,
            "layout": "IPY_MODEL_a5117e368c044034ad1fab33c4d2c31a",
            "max": 26,
            "min": 0,
            "orientation": "horizontal",
            "style": "IPY_MODEL_fad6a5f3805f4e91ad90a55036390f6f",
            "value": 26
          }
        },
        "10656b4053b74c6086bcc04397c01334": {
          "model_module": "@jupyter-widgets/controls",
          "model_name": "HTMLModel",
          "model_module_version": "1.5.0",
          "state": {
            "_dom_classes": [],
            "_model_module": "@jupyter-widgets/controls",
            "_model_module_version": "1.5.0",
            "_model_name": "HTMLModel",
            "_view_count": null,
            "_view_module": "@jupyter-widgets/controls",
            "_view_module_version": "1.5.0",
            "_view_name": "HTMLView",
            "description": "",
            "description_tooltip": null,
            "layout": "IPY_MODEL_086cb3b05bd4412a841dd145f4283b55",
            "placeholder": "​",
            "style": "IPY_MODEL_dd508141cc584ab2a609033014f8385b",
            "value": " 26.0/26.0 [00:00&lt;00:00, 1.16kB/s]"
          }
        },
        "62ed077bf227486390c24be4cf06e18f": {
          "model_module": "@jupyter-widgets/base",
          "model_name": "LayoutModel",
          "model_module_version": "1.2.0",
          "state": {
            "_model_module": "@jupyter-widgets/base",
            "_model_module_version": "1.2.0",
            "_model_name": "LayoutModel",
            "_view_count": null,
            "_view_module": "@jupyter-widgets/base",
            "_view_module_version": "1.2.0",
            "_view_name": "LayoutView",
            "align_content": null,
            "align_items": null,
            "align_self": null,
            "border": null,
            "bottom": null,
            "display": null,
            "flex": null,
            "flex_flow": null,
            "grid_area": null,
            "grid_auto_columns": null,
            "grid_auto_flow": null,
            "grid_auto_rows": null,
            "grid_column": null,
            "grid_gap": null,
            "grid_row": null,
            "grid_template_areas": null,
            "grid_template_columns": null,
            "grid_template_rows": null,
            "height": null,
            "justify_content": null,
            "justify_items": null,
            "left": null,
            "margin": null,
            "max_height": null,
            "max_width": null,
            "min_height": null,
            "min_width": null,
            "object_fit": null,
            "object_position": null,
            "order": null,
            "overflow": null,
            "overflow_x": null,
            "overflow_y": null,
            "padding": null,
            "right": null,
            "top": null,
            "visibility": null,
            "width": null
          }
        },
        "ba7e9e5298c04a46a8223a6a42f564fe": {
          "model_module": "@jupyter-widgets/base",
          "model_name": "LayoutModel",
          "model_module_version": "1.2.0",
          "state": {
            "_model_module": "@jupyter-widgets/base",
            "_model_module_version": "1.2.0",
            "_model_name": "LayoutModel",
            "_view_count": null,
            "_view_module": "@jupyter-widgets/base",
            "_view_module_version": "1.2.0",
            "_view_name": "LayoutView",
            "align_content": null,
            "align_items": null,
            "align_self": null,
            "border": null,
            "bottom": null,
            "display": null,
            "flex": null,
            "flex_flow": null,
            "grid_area": null,
            "grid_auto_columns": null,
            "grid_auto_flow": null,
            "grid_auto_rows": null,
            "grid_column": null,
            "grid_gap": null,
            "grid_row": null,
            "grid_template_areas": null,
            "grid_template_columns": null,
            "grid_template_rows": null,
            "height": null,
            "justify_content": null,
            "justify_items": null,
            "left": null,
            "margin": null,
            "max_height": null,
            "max_width": null,
            "min_height": null,
            "min_width": null,
            "object_fit": null,
            "object_position": null,
            "order": null,
            "overflow": null,
            "overflow_x": null,
            "overflow_y": null,
            "padding": null,
            "right": null,
            "top": null,
            "visibility": null,
            "width": null
          }
        },
        "313b1e2e726f444194c1812d33559fe7": {
          "model_module": "@jupyter-widgets/controls",
          "model_name": "DescriptionStyleModel",
          "model_module_version": "1.5.0",
          "state": {
            "_model_module": "@jupyter-widgets/controls",
            "_model_module_version": "1.5.0",
            "_model_name": "DescriptionStyleModel",
            "_view_count": null,
            "_view_module": "@jupyter-widgets/base",
            "_view_module_version": "1.2.0",
            "_view_name": "StyleView",
            "description_width": ""
          }
        },
        "a5117e368c044034ad1fab33c4d2c31a": {
          "model_module": "@jupyter-widgets/base",
          "model_name": "LayoutModel",
          "model_module_version": "1.2.0",
          "state": {
            "_model_module": "@jupyter-widgets/base",
            "_model_module_version": "1.2.0",
            "_model_name": "LayoutModel",
            "_view_count": null,
            "_view_module": "@jupyter-widgets/base",
            "_view_module_version": "1.2.0",
            "_view_name": "LayoutView",
            "align_content": null,
            "align_items": null,
            "align_self": null,
            "border": null,
            "bottom": null,
            "display": null,
            "flex": null,
            "flex_flow": null,
            "grid_area": null,
            "grid_auto_columns": null,
            "grid_auto_flow": null,
            "grid_auto_rows": null,
            "grid_column": null,
            "grid_gap": null,
            "grid_row": null,
            "grid_template_areas": null,
            "grid_template_columns": null,
            "grid_template_rows": null,
            "height": null,
            "justify_content": null,
            "justify_items": null,
            "left": null,
            "margin": null,
            "max_height": null,
            "max_width": null,
            "min_height": null,
            "min_width": null,
            "object_fit": null,
            "object_position": null,
            "order": null,
            "overflow": null,
            "overflow_x": null,
            "overflow_y": null,
            "padding": null,
            "right": null,
            "top": null,
            "visibility": null,
            "width": null
          }
        },
        "fad6a5f3805f4e91ad90a55036390f6f": {
          "model_module": "@jupyter-widgets/controls",
          "model_name": "ProgressStyleModel",
          "model_module_version": "1.5.0",
          "state": {
            "_model_module": "@jupyter-widgets/controls",
            "_model_module_version": "1.5.0",
            "_model_name": "ProgressStyleModel",
            "_view_count": null,
            "_view_module": "@jupyter-widgets/base",
            "_view_module_version": "1.2.0",
            "_view_name": "StyleView",
            "bar_color": null,
            "description_width": ""
          }
        },
        "086cb3b05bd4412a841dd145f4283b55": {
          "model_module": "@jupyter-widgets/base",
          "model_name": "LayoutModel",
          "model_module_version": "1.2.0",
          "state": {
            "_model_module": "@jupyter-widgets/base",
            "_model_module_version": "1.2.0",
            "_model_name": "LayoutModel",
            "_view_count": null,
            "_view_module": "@jupyter-widgets/base",
            "_view_module_version": "1.2.0",
            "_view_name": "LayoutView",
            "align_content": null,
            "align_items": null,
            "align_self": null,
            "border": null,
            "bottom": null,
            "display": null,
            "flex": null,
            "flex_flow": null,
            "grid_area": null,
            "grid_auto_columns": null,
            "grid_auto_flow": null,
            "grid_auto_rows": null,
            "grid_column": null,
            "grid_gap": null,
            "grid_row": null,
            "grid_template_areas": null,
            "grid_template_columns": null,
            "grid_template_rows": null,
            "height": null,
            "justify_content": null,
            "justify_items": null,
            "left": null,
            "margin": null,
            "max_height": null,
            "max_width": null,
            "min_height": null,
            "min_width": null,
            "object_fit": null,
            "object_position": null,
            "order": null,
            "overflow": null,
            "overflow_x": null,
            "overflow_y": null,
            "padding": null,
            "right": null,
            "top": null,
            "visibility": null,
            "width": null
          }
        },
        "dd508141cc584ab2a609033014f8385b": {
          "model_module": "@jupyter-widgets/controls",
          "model_name": "DescriptionStyleModel",
          "model_module_version": "1.5.0",
          "state": {
            "_model_module": "@jupyter-widgets/controls",
            "_model_module_version": "1.5.0",
            "_model_name": "DescriptionStyleModel",
            "_view_count": null,
            "_view_module": "@jupyter-widgets/base",
            "_view_module_version": "1.2.0",
            "_view_name": "StyleView",
            "description_width": ""
          }
        },
        "ef6e6f9290134678a0b417a23b26306f": {
          "model_module": "@jupyter-widgets/controls",
          "model_name": "HBoxModel",
          "model_module_version": "1.5.0",
          "state": {
            "_dom_classes": [],
            "_model_module": "@jupyter-widgets/controls",
            "_model_module_version": "1.5.0",
            "_model_name": "HBoxModel",
            "_view_count": null,
            "_view_module": "@jupyter-widgets/controls",
            "_view_module_version": "1.5.0",
            "_view_name": "HBoxView",
            "box_style": "",
            "children": [
              "IPY_MODEL_3eb9bd655bf14841b5b44ef6ccbc0ca5",
              "IPY_MODEL_4d3258c0435a46169ce3bb54430be299",
              "IPY_MODEL_3a818cf835d8457bb5bea387bac18d1b"
            ],
            "layout": "IPY_MODEL_238cb37e325f4d15ac3d91007b4fdae5"
          }
        },
        "3eb9bd655bf14841b5b44ef6ccbc0ca5": {
          "model_module": "@jupyter-widgets/controls",
          "model_name": "HTMLModel",
          "model_module_version": "1.5.0",
          "state": {
            "_dom_classes": [],
            "_model_module": "@jupyter-widgets/controls",
            "_model_module_version": "1.5.0",
            "_model_name": "HTMLModel",
            "_view_count": null,
            "_view_module": "@jupyter-widgets/controls",
            "_view_module_version": "1.5.0",
            "_view_name": "HTMLView",
            "description": "",
            "description_tooltip": null,
            "layout": "IPY_MODEL_04acabf242d84b5d880c100fc01e4195",
            "placeholder": "​",
            "style": "IPY_MODEL_99807f2e5c864da68103ffb39e00e893",
            "value": "Downloading (…)olve/main/vocab.json: 100%"
          }
        },
        "4d3258c0435a46169ce3bb54430be299": {
          "model_module": "@jupyter-widgets/controls",
          "model_name": "FloatProgressModel",
          "model_module_version": "1.5.0",
          "state": {
            "_dom_classes": [],
            "_model_module": "@jupyter-widgets/controls",
            "_model_module_version": "1.5.0",
            "_model_name": "FloatProgressModel",
            "_view_count": null,
            "_view_module": "@jupyter-widgets/controls",
            "_view_module_version": "1.5.0",
            "_view_name": "ProgressView",
            "bar_style": "success",
            "description": "",
            "description_tooltip": null,
            "layout": "IPY_MODEL_5e1952639792445eaaa73a126f6559da",
            "max": 898822,
            "min": 0,
            "orientation": "horizontal",
            "style": "IPY_MODEL_51dc525bacb045bc9d288d8ccd2a7294",
            "value": 898822
          }
        },
        "3a818cf835d8457bb5bea387bac18d1b": {
          "model_module": "@jupyter-widgets/controls",
          "model_name": "HTMLModel",
          "model_module_version": "1.5.0",
          "state": {
            "_dom_classes": [],
            "_model_module": "@jupyter-widgets/controls",
            "_model_module_version": "1.5.0",
            "_model_name": "HTMLModel",
            "_view_count": null,
            "_view_module": "@jupyter-widgets/controls",
            "_view_module_version": "1.5.0",
            "_view_name": "HTMLView",
            "description": "",
            "description_tooltip": null,
            "layout": "IPY_MODEL_13fd7fbd26cf410e86713212019ab492",
            "placeholder": "​",
            "style": "IPY_MODEL_9a7e965aa20a4fa88dcff28860aab325",
            "value": " 899k/899k [00:00&lt;00:00, 1.15MB/s]"
          }
        },
        "238cb37e325f4d15ac3d91007b4fdae5": {
          "model_module": "@jupyter-widgets/base",
          "model_name": "LayoutModel",
          "model_module_version": "1.2.0",
          "state": {
            "_model_module": "@jupyter-widgets/base",
            "_model_module_version": "1.2.0",
            "_model_name": "LayoutModel",
            "_view_count": null,
            "_view_module": "@jupyter-widgets/base",
            "_view_module_version": "1.2.0",
            "_view_name": "LayoutView",
            "align_content": null,
            "align_items": null,
            "align_self": null,
            "border": null,
            "bottom": null,
            "display": null,
            "flex": null,
            "flex_flow": null,
            "grid_area": null,
            "grid_auto_columns": null,
            "grid_auto_flow": null,
            "grid_auto_rows": null,
            "grid_column": null,
            "grid_gap": null,
            "grid_row": null,
            "grid_template_areas": null,
            "grid_template_columns": null,
            "grid_template_rows": null,
            "height": null,
            "justify_content": null,
            "justify_items": null,
            "left": null,
            "margin": null,
            "max_height": null,
            "max_width": null,
            "min_height": null,
            "min_width": null,
            "object_fit": null,
            "object_position": null,
            "order": null,
            "overflow": null,
            "overflow_x": null,
            "overflow_y": null,
            "padding": null,
            "right": null,
            "top": null,
            "visibility": null,
            "width": null
          }
        },
        "04acabf242d84b5d880c100fc01e4195": {
          "model_module": "@jupyter-widgets/base",
          "model_name": "LayoutModel",
          "model_module_version": "1.2.0",
          "state": {
            "_model_module": "@jupyter-widgets/base",
            "_model_module_version": "1.2.0",
            "_model_name": "LayoutModel",
            "_view_count": null,
            "_view_module": "@jupyter-widgets/base",
            "_view_module_version": "1.2.0",
            "_view_name": "LayoutView",
            "align_content": null,
            "align_items": null,
            "align_self": null,
            "border": null,
            "bottom": null,
            "display": null,
            "flex": null,
            "flex_flow": null,
            "grid_area": null,
            "grid_auto_columns": null,
            "grid_auto_flow": null,
            "grid_auto_rows": null,
            "grid_column": null,
            "grid_gap": null,
            "grid_row": null,
            "grid_template_areas": null,
            "grid_template_columns": null,
            "grid_template_rows": null,
            "height": null,
            "justify_content": null,
            "justify_items": null,
            "left": null,
            "margin": null,
            "max_height": null,
            "max_width": null,
            "min_height": null,
            "min_width": null,
            "object_fit": null,
            "object_position": null,
            "order": null,
            "overflow": null,
            "overflow_x": null,
            "overflow_y": null,
            "padding": null,
            "right": null,
            "top": null,
            "visibility": null,
            "width": null
          }
        },
        "99807f2e5c864da68103ffb39e00e893": {
          "model_module": "@jupyter-widgets/controls",
          "model_name": "DescriptionStyleModel",
          "model_module_version": "1.5.0",
          "state": {
            "_model_module": "@jupyter-widgets/controls",
            "_model_module_version": "1.5.0",
            "_model_name": "DescriptionStyleModel",
            "_view_count": null,
            "_view_module": "@jupyter-widgets/base",
            "_view_module_version": "1.2.0",
            "_view_name": "StyleView",
            "description_width": ""
          }
        },
        "5e1952639792445eaaa73a126f6559da": {
          "model_module": "@jupyter-widgets/base",
          "model_name": "LayoutModel",
          "model_module_version": "1.2.0",
          "state": {
            "_model_module": "@jupyter-widgets/base",
            "_model_module_version": "1.2.0",
            "_model_name": "LayoutModel",
            "_view_count": null,
            "_view_module": "@jupyter-widgets/base",
            "_view_module_version": "1.2.0",
            "_view_name": "LayoutView",
            "align_content": null,
            "align_items": null,
            "align_self": null,
            "border": null,
            "bottom": null,
            "display": null,
            "flex": null,
            "flex_flow": null,
            "grid_area": null,
            "grid_auto_columns": null,
            "grid_auto_flow": null,
            "grid_auto_rows": null,
            "grid_column": null,
            "grid_gap": null,
            "grid_row": null,
            "grid_template_areas": null,
            "grid_template_columns": null,
            "grid_template_rows": null,
            "height": null,
            "justify_content": null,
            "justify_items": null,
            "left": null,
            "margin": null,
            "max_height": null,
            "max_width": null,
            "min_height": null,
            "min_width": null,
            "object_fit": null,
            "object_position": null,
            "order": null,
            "overflow": null,
            "overflow_x": null,
            "overflow_y": null,
            "padding": null,
            "right": null,
            "top": null,
            "visibility": null,
            "width": null
          }
        },
        "51dc525bacb045bc9d288d8ccd2a7294": {
          "model_module": "@jupyter-widgets/controls",
          "model_name": "ProgressStyleModel",
          "model_module_version": "1.5.0",
          "state": {
            "_model_module": "@jupyter-widgets/controls",
            "_model_module_version": "1.5.0",
            "_model_name": "ProgressStyleModel",
            "_view_count": null,
            "_view_module": "@jupyter-widgets/base",
            "_view_module_version": "1.2.0",
            "_view_name": "StyleView",
            "bar_color": null,
            "description_width": ""
          }
        },
        "13fd7fbd26cf410e86713212019ab492": {
          "model_module": "@jupyter-widgets/base",
          "model_name": "LayoutModel",
          "model_module_version": "1.2.0",
          "state": {
            "_model_module": "@jupyter-widgets/base",
            "_model_module_version": "1.2.0",
            "_model_name": "LayoutModel",
            "_view_count": null,
            "_view_module": "@jupyter-widgets/base",
            "_view_module_version": "1.2.0",
            "_view_name": "LayoutView",
            "align_content": null,
            "align_items": null,
            "align_self": null,
            "border": null,
            "bottom": null,
            "display": null,
            "flex": null,
            "flex_flow": null,
            "grid_area": null,
            "grid_auto_columns": null,
            "grid_auto_flow": null,
            "grid_auto_rows": null,
            "grid_column": null,
            "grid_gap": null,
            "grid_row": null,
            "grid_template_areas": null,
            "grid_template_columns": null,
            "grid_template_rows": null,
            "height": null,
            "justify_content": null,
            "justify_items": null,
            "left": null,
            "margin": null,
            "max_height": null,
            "max_width": null,
            "min_height": null,
            "min_width": null,
            "object_fit": null,
            "object_position": null,
            "order": null,
            "overflow": null,
            "overflow_x": null,
            "overflow_y": null,
            "padding": null,
            "right": null,
            "top": null,
            "visibility": null,
            "width": null
          }
        },
        "9a7e965aa20a4fa88dcff28860aab325": {
          "model_module": "@jupyter-widgets/controls",
          "model_name": "DescriptionStyleModel",
          "model_module_version": "1.5.0",
          "state": {
            "_model_module": "@jupyter-widgets/controls",
            "_model_module_version": "1.5.0",
            "_model_name": "DescriptionStyleModel",
            "_view_count": null,
            "_view_module": "@jupyter-widgets/base",
            "_view_module_version": "1.2.0",
            "_view_name": "StyleView",
            "description_width": ""
          }
        },
        "cc9993eb6b004c238bd4a767eafb26e0": {
          "model_module": "@jupyter-widgets/controls",
          "model_name": "HBoxModel",
          "model_module_version": "1.5.0",
          "state": {
            "_dom_classes": [],
            "_model_module": "@jupyter-widgets/controls",
            "_model_module_version": "1.5.0",
            "_model_name": "HBoxModel",
            "_view_count": null,
            "_view_module": "@jupyter-widgets/controls",
            "_view_module_version": "1.5.0",
            "_view_name": "HBoxView",
            "box_style": "",
            "children": [
              "IPY_MODEL_db002dfac6ca4ca79800053c7ed3314a",
              "IPY_MODEL_d36062902b4a454398424fb029916f36",
              "IPY_MODEL_c305208ac3ca4e8595a3d2b63edd809f"
            ],
            "layout": "IPY_MODEL_40da2e7d4c974bd5a7ee316c5a23da80"
          }
        },
        "db002dfac6ca4ca79800053c7ed3314a": {
          "model_module": "@jupyter-widgets/controls",
          "model_name": "HTMLModel",
          "model_module_version": "1.5.0",
          "state": {
            "_dom_classes": [],
            "_model_module": "@jupyter-widgets/controls",
            "_model_module_version": "1.5.0",
            "_model_name": "HTMLModel",
            "_view_count": null,
            "_view_module": "@jupyter-widgets/controls",
            "_view_module_version": "1.5.0",
            "_view_name": "HTMLView",
            "description": "",
            "description_tooltip": null,
            "layout": "IPY_MODEL_f6d6b6ae988c4917ba12a5ceec3022e3",
            "placeholder": "​",
            "style": "IPY_MODEL_b77c3753493b424ca4e9009b184c6e48",
            "value": "Downloading (…)olve/main/merges.txt: 100%"
          }
        },
        "d36062902b4a454398424fb029916f36": {
          "model_module": "@jupyter-widgets/controls",
          "model_name": "FloatProgressModel",
          "model_module_version": "1.5.0",
          "state": {
            "_dom_classes": [],
            "_model_module": "@jupyter-widgets/controls",
            "_model_module_version": "1.5.0",
            "_model_name": "FloatProgressModel",
            "_view_count": null,
            "_view_module": "@jupyter-widgets/controls",
            "_view_module_version": "1.5.0",
            "_view_name": "ProgressView",
            "bar_style": "success",
            "description": "",
            "description_tooltip": null,
            "layout": "IPY_MODEL_e44f1243c9fa4eaaa8d76f7484545c86",
            "max": 456318,
            "min": 0,
            "orientation": "horizontal",
            "style": "IPY_MODEL_6d2d651fe99b4f489dcc4e7f3b0a847c",
            "value": 456318
          }
        },
        "c305208ac3ca4e8595a3d2b63edd809f": {
          "model_module": "@jupyter-widgets/controls",
          "model_name": "HTMLModel",
          "model_module_version": "1.5.0",
          "state": {
            "_dom_classes": [],
            "_model_module": "@jupyter-widgets/controls",
            "_model_module_version": "1.5.0",
            "_model_name": "HTMLModel",
            "_view_count": null,
            "_view_module": "@jupyter-widgets/controls",
            "_view_module_version": "1.5.0",
            "_view_name": "HTMLView",
            "description": "",
            "description_tooltip": null,
            "layout": "IPY_MODEL_93fcb934f872440a9037000ae5e7e184",
            "placeholder": "​",
            "style": "IPY_MODEL_7bc5d572795743848df021abdf81d001",
            "value": " 456k/456k [00:00&lt;00:00, 17.8MB/s]"
          }
        },
        "40da2e7d4c974bd5a7ee316c5a23da80": {
          "model_module": "@jupyter-widgets/base",
          "model_name": "LayoutModel",
          "model_module_version": "1.2.0",
          "state": {
            "_model_module": "@jupyter-widgets/base",
            "_model_module_version": "1.2.0",
            "_model_name": "LayoutModel",
            "_view_count": null,
            "_view_module": "@jupyter-widgets/base",
            "_view_module_version": "1.2.0",
            "_view_name": "LayoutView",
            "align_content": null,
            "align_items": null,
            "align_self": null,
            "border": null,
            "bottom": null,
            "display": null,
            "flex": null,
            "flex_flow": null,
            "grid_area": null,
            "grid_auto_columns": null,
            "grid_auto_flow": null,
            "grid_auto_rows": null,
            "grid_column": null,
            "grid_gap": null,
            "grid_row": null,
            "grid_template_areas": null,
            "grid_template_columns": null,
            "grid_template_rows": null,
            "height": null,
            "justify_content": null,
            "justify_items": null,
            "left": null,
            "margin": null,
            "max_height": null,
            "max_width": null,
            "min_height": null,
            "min_width": null,
            "object_fit": null,
            "object_position": null,
            "order": null,
            "overflow": null,
            "overflow_x": null,
            "overflow_y": null,
            "padding": null,
            "right": null,
            "top": null,
            "visibility": null,
            "width": null
          }
        },
        "f6d6b6ae988c4917ba12a5ceec3022e3": {
          "model_module": "@jupyter-widgets/base",
          "model_name": "LayoutModel",
          "model_module_version": "1.2.0",
          "state": {
            "_model_module": "@jupyter-widgets/base",
            "_model_module_version": "1.2.0",
            "_model_name": "LayoutModel",
            "_view_count": null,
            "_view_module": "@jupyter-widgets/base",
            "_view_module_version": "1.2.0",
            "_view_name": "LayoutView",
            "align_content": null,
            "align_items": null,
            "align_self": null,
            "border": null,
            "bottom": null,
            "display": null,
            "flex": null,
            "flex_flow": null,
            "grid_area": null,
            "grid_auto_columns": null,
            "grid_auto_flow": null,
            "grid_auto_rows": null,
            "grid_column": null,
            "grid_gap": null,
            "grid_row": null,
            "grid_template_areas": null,
            "grid_template_columns": null,
            "grid_template_rows": null,
            "height": null,
            "justify_content": null,
            "justify_items": null,
            "left": null,
            "margin": null,
            "max_height": null,
            "max_width": null,
            "min_height": null,
            "min_width": null,
            "object_fit": null,
            "object_position": null,
            "order": null,
            "overflow": null,
            "overflow_x": null,
            "overflow_y": null,
            "padding": null,
            "right": null,
            "top": null,
            "visibility": null,
            "width": null
          }
        },
        "b77c3753493b424ca4e9009b184c6e48": {
          "model_module": "@jupyter-widgets/controls",
          "model_name": "DescriptionStyleModel",
          "model_module_version": "1.5.0",
          "state": {
            "_model_module": "@jupyter-widgets/controls",
            "_model_module_version": "1.5.0",
            "_model_name": "DescriptionStyleModel",
            "_view_count": null,
            "_view_module": "@jupyter-widgets/base",
            "_view_module_version": "1.2.0",
            "_view_name": "StyleView",
            "description_width": ""
          }
        },
        "e44f1243c9fa4eaaa8d76f7484545c86": {
          "model_module": "@jupyter-widgets/base",
          "model_name": "LayoutModel",
          "model_module_version": "1.2.0",
          "state": {
            "_model_module": "@jupyter-widgets/base",
            "_model_module_version": "1.2.0",
            "_model_name": "LayoutModel",
            "_view_count": null,
            "_view_module": "@jupyter-widgets/base",
            "_view_module_version": "1.2.0",
            "_view_name": "LayoutView",
            "align_content": null,
            "align_items": null,
            "align_self": null,
            "border": null,
            "bottom": null,
            "display": null,
            "flex": null,
            "flex_flow": null,
            "grid_area": null,
            "grid_auto_columns": null,
            "grid_auto_flow": null,
            "grid_auto_rows": null,
            "grid_column": null,
            "grid_gap": null,
            "grid_row": null,
            "grid_template_areas": null,
            "grid_template_columns": null,
            "grid_template_rows": null,
            "height": null,
            "justify_content": null,
            "justify_items": null,
            "left": null,
            "margin": null,
            "max_height": null,
            "max_width": null,
            "min_height": null,
            "min_width": null,
            "object_fit": null,
            "object_position": null,
            "order": null,
            "overflow": null,
            "overflow_x": null,
            "overflow_y": null,
            "padding": null,
            "right": null,
            "top": null,
            "visibility": null,
            "width": null
          }
        },
        "6d2d651fe99b4f489dcc4e7f3b0a847c": {
          "model_module": "@jupyter-widgets/controls",
          "model_name": "ProgressStyleModel",
          "model_module_version": "1.5.0",
          "state": {
            "_model_module": "@jupyter-widgets/controls",
            "_model_module_version": "1.5.0",
            "_model_name": "ProgressStyleModel",
            "_view_count": null,
            "_view_module": "@jupyter-widgets/base",
            "_view_module_version": "1.2.0",
            "_view_name": "StyleView",
            "bar_color": null,
            "description_width": ""
          }
        },
        "93fcb934f872440a9037000ae5e7e184": {
          "model_module": "@jupyter-widgets/base",
          "model_name": "LayoutModel",
          "model_module_version": "1.2.0",
          "state": {
            "_model_module": "@jupyter-widgets/base",
            "_model_module_version": "1.2.0",
            "_model_name": "LayoutModel",
            "_view_count": null,
            "_view_module": "@jupyter-widgets/base",
            "_view_module_version": "1.2.0",
            "_view_name": "LayoutView",
            "align_content": null,
            "align_items": null,
            "align_self": null,
            "border": null,
            "bottom": null,
            "display": null,
            "flex": null,
            "flex_flow": null,
            "grid_area": null,
            "grid_auto_columns": null,
            "grid_auto_flow": null,
            "grid_auto_rows": null,
            "grid_column": null,
            "grid_gap": null,
            "grid_row": null,
            "grid_template_areas": null,
            "grid_template_columns": null,
            "grid_template_rows": null,
            "height": null,
            "justify_content": null,
            "justify_items": null,
            "left": null,
            "margin": null,
            "max_height": null,
            "max_width": null,
            "min_height": null,
            "min_width": null,
            "object_fit": null,
            "object_position": null,
            "order": null,
            "overflow": null,
            "overflow_x": null,
            "overflow_y": null,
            "padding": null,
            "right": null,
            "top": null,
            "visibility": null,
            "width": null
          }
        },
        "7bc5d572795743848df021abdf81d001": {
          "model_module": "@jupyter-widgets/controls",
          "model_name": "DescriptionStyleModel",
          "model_module_version": "1.5.0",
          "state": {
            "_model_module": "@jupyter-widgets/controls",
            "_model_module_version": "1.5.0",
            "_model_name": "DescriptionStyleModel",
            "_view_count": null,
            "_view_module": "@jupyter-widgets/base",
            "_view_module_version": "1.2.0",
            "_view_name": "StyleView",
            "description_width": ""
          }
        },
        "9d01f6ff84fd4ea69bbb117ffa0fa8d1": {
          "model_module": "@jupyter-widgets/controls",
          "model_name": "HBoxModel",
          "model_module_version": "1.5.0",
          "state": {
            "_dom_classes": [],
            "_model_module": "@jupyter-widgets/controls",
            "_model_module_version": "1.5.0",
            "_model_name": "HBoxModel",
            "_view_count": null,
            "_view_module": "@jupyter-widgets/controls",
            "_view_module_version": "1.5.0",
            "_view_name": "HBoxView",
            "box_style": "",
            "children": [
              "IPY_MODEL_d8f8d7b662344b23b34e66ad981c5bde",
              "IPY_MODEL_ad194c193d6e40608c26e63f4ed764b7",
              "IPY_MODEL_c17ff172b6e04377b642036a573d16d9"
            ],
            "layout": "IPY_MODEL_2aa8aa3a08d24ecc93480cafe39a1b66"
          }
        },
        "d8f8d7b662344b23b34e66ad981c5bde": {
          "model_module": "@jupyter-widgets/controls",
          "model_name": "HTMLModel",
          "model_module_version": "1.5.0",
          "state": {
            "_dom_classes": [],
            "_model_module": "@jupyter-widgets/controls",
            "_model_module_version": "1.5.0",
            "_model_name": "HTMLModel",
            "_view_count": null,
            "_view_module": "@jupyter-widgets/controls",
            "_view_module_version": "1.5.0",
            "_view_name": "HTMLView",
            "description": "",
            "description_tooltip": null,
            "layout": "IPY_MODEL_3b5d9d88c08d4acb892e283b6231f703",
            "placeholder": "​",
            "style": "IPY_MODEL_859f569e36e74397a14c32a5f512dd2b",
            "value": "Downloading (…)/main/tokenizer.json: 100%"
          }
        },
        "ad194c193d6e40608c26e63f4ed764b7": {
          "model_module": "@jupyter-widgets/controls",
          "model_name": "FloatProgressModel",
          "model_module_version": "1.5.0",
          "state": {
            "_dom_classes": [],
            "_model_module": "@jupyter-widgets/controls",
            "_model_module_version": "1.5.0",
            "_model_name": "FloatProgressModel",
            "_view_count": null,
            "_view_module": "@jupyter-widgets/controls",
            "_view_module_version": "1.5.0",
            "_view_name": "ProgressView",
            "bar_style": "success",
            "description": "",
            "description_tooltip": null,
            "layout": "IPY_MODEL_39a64147ed944c7f96d501d4b965e39e",
            "max": 1355863,
            "min": 0,
            "orientation": "horizontal",
            "style": "IPY_MODEL_40e2c34faca841a68c196af5d59fdac1",
            "value": 1355863
          }
        },
        "c17ff172b6e04377b642036a573d16d9": {
          "model_module": "@jupyter-widgets/controls",
          "model_name": "HTMLModel",
          "model_module_version": "1.5.0",
          "state": {
            "_dom_classes": [],
            "_model_module": "@jupyter-widgets/controls",
            "_model_module_version": "1.5.0",
            "_model_name": "HTMLModel",
            "_view_count": null,
            "_view_module": "@jupyter-widgets/controls",
            "_view_module_version": "1.5.0",
            "_view_name": "HTMLView",
            "description": "",
            "description_tooltip": null,
            "layout": "IPY_MODEL_a58de1d5d7d64bdc8ce52963fce9b663",
            "placeholder": "​",
            "style": "IPY_MODEL_48f1bad3ffa64f63b4482ab830990b48",
            "value": " 1.36M/1.36M [00:00&lt;00:00, 1.39MB/s]"
          }
        },
        "2aa8aa3a08d24ecc93480cafe39a1b66": {
          "model_module": "@jupyter-widgets/base",
          "model_name": "LayoutModel",
          "model_module_version": "1.2.0",
          "state": {
            "_model_module": "@jupyter-widgets/base",
            "_model_module_version": "1.2.0",
            "_model_name": "LayoutModel",
            "_view_count": null,
            "_view_module": "@jupyter-widgets/base",
            "_view_module_version": "1.2.0",
            "_view_name": "LayoutView",
            "align_content": null,
            "align_items": null,
            "align_self": null,
            "border": null,
            "bottom": null,
            "display": null,
            "flex": null,
            "flex_flow": null,
            "grid_area": null,
            "grid_auto_columns": null,
            "grid_auto_flow": null,
            "grid_auto_rows": null,
            "grid_column": null,
            "grid_gap": null,
            "grid_row": null,
            "grid_template_areas": null,
            "grid_template_columns": null,
            "grid_template_rows": null,
            "height": null,
            "justify_content": null,
            "justify_items": null,
            "left": null,
            "margin": null,
            "max_height": null,
            "max_width": null,
            "min_height": null,
            "min_width": null,
            "object_fit": null,
            "object_position": null,
            "order": null,
            "overflow": null,
            "overflow_x": null,
            "overflow_y": null,
            "padding": null,
            "right": null,
            "top": null,
            "visibility": null,
            "width": null
          }
        },
        "3b5d9d88c08d4acb892e283b6231f703": {
          "model_module": "@jupyter-widgets/base",
          "model_name": "LayoutModel",
          "model_module_version": "1.2.0",
          "state": {
            "_model_module": "@jupyter-widgets/base",
            "_model_module_version": "1.2.0",
            "_model_name": "LayoutModel",
            "_view_count": null,
            "_view_module": "@jupyter-widgets/base",
            "_view_module_version": "1.2.0",
            "_view_name": "LayoutView",
            "align_content": null,
            "align_items": null,
            "align_self": null,
            "border": null,
            "bottom": null,
            "display": null,
            "flex": null,
            "flex_flow": null,
            "grid_area": null,
            "grid_auto_columns": null,
            "grid_auto_flow": null,
            "grid_auto_rows": null,
            "grid_column": null,
            "grid_gap": null,
            "grid_row": null,
            "grid_template_areas": null,
            "grid_template_columns": null,
            "grid_template_rows": null,
            "height": null,
            "justify_content": null,
            "justify_items": null,
            "left": null,
            "margin": null,
            "max_height": null,
            "max_width": null,
            "min_height": null,
            "min_width": null,
            "object_fit": null,
            "object_position": null,
            "order": null,
            "overflow": null,
            "overflow_x": null,
            "overflow_y": null,
            "padding": null,
            "right": null,
            "top": null,
            "visibility": null,
            "width": null
          }
        },
        "859f569e36e74397a14c32a5f512dd2b": {
          "model_module": "@jupyter-widgets/controls",
          "model_name": "DescriptionStyleModel",
          "model_module_version": "1.5.0",
          "state": {
            "_model_module": "@jupyter-widgets/controls",
            "_model_module_version": "1.5.0",
            "_model_name": "DescriptionStyleModel",
            "_view_count": null,
            "_view_module": "@jupyter-widgets/base",
            "_view_module_version": "1.2.0",
            "_view_name": "StyleView",
            "description_width": ""
          }
        },
        "39a64147ed944c7f96d501d4b965e39e": {
          "model_module": "@jupyter-widgets/base",
          "model_name": "LayoutModel",
          "model_module_version": "1.2.0",
          "state": {
            "_model_module": "@jupyter-widgets/base",
            "_model_module_version": "1.2.0",
            "_model_name": "LayoutModel",
            "_view_count": null,
            "_view_module": "@jupyter-widgets/base",
            "_view_module_version": "1.2.0",
            "_view_name": "LayoutView",
            "align_content": null,
            "align_items": null,
            "align_self": null,
            "border": null,
            "bottom": null,
            "display": null,
            "flex": null,
            "flex_flow": null,
            "grid_area": null,
            "grid_auto_columns": null,
            "grid_auto_flow": null,
            "grid_auto_rows": null,
            "grid_column": null,
            "grid_gap": null,
            "grid_row": null,
            "grid_template_areas": null,
            "grid_template_columns": null,
            "grid_template_rows": null,
            "height": null,
            "justify_content": null,
            "justify_items": null,
            "left": null,
            "margin": null,
            "max_height": null,
            "max_width": null,
            "min_height": null,
            "min_width": null,
            "object_fit": null,
            "object_position": null,
            "order": null,
            "overflow": null,
            "overflow_x": null,
            "overflow_y": null,
            "padding": null,
            "right": null,
            "top": null,
            "visibility": null,
            "width": null
          }
        },
        "40e2c34faca841a68c196af5d59fdac1": {
          "model_module": "@jupyter-widgets/controls",
          "model_name": "ProgressStyleModel",
          "model_module_version": "1.5.0",
          "state": {
            "_model_module": "@jupyter-widgets/controls",
            "_model_module_version": "1.5.0",
            "_model_name": "ProgressStyleModel",
            "_view_count": null,
            "_view_module": "@jupyter-widgets/base",
            "_view_module_version": "1.2.0",
            "_view_name": "StyleView",
            "bar_color": null,
            "description_width": ""
          }
        },
        "a58de1d5d7d64bdc8ce52963fce9b663": {
          "model_module": "@jupyter-widgets/base",
          "model_name": "LayoutModel",
          "model_module_version": "1.2.0",
          "state": {
            "_model_module": "@jupyter-widgets/base",
            "_model_module_version": "1.2.0",
            "_model_name": "LayoutModel",
            "_view_count": null,
            "_view_module": "@jupyter-widgets/base",
            "_view_module_version": "1.2.0",
            "_view_name": "LayoutView",
            "align_content": null,
            "align_items": null,
            "align_self": null,
            "border": null,
            "bottom": null,
            "display": null,
            "flex": null,
            "flex_flow": null,
            "grid_area": null,
            "grid_auto_columns": null,
            "grid_auto_flow": null,
            "grid_auto_rows": null,
            "grid_column": null,
            "grid_gap": null,
            "grid_row": null,
            "grid_template_areas": null,
            "grid_template_columns": null,
            "grid_template_rows": null,
            "height": null,
            "justify_content": null,
            "justify_items": null,
            "left": null,
            "margin": null,
            "max_height": null,
            "max_width": null,
            "min_height": null,
            "min_width": null,
            "object_fit": null,
            "object_position": null,
            "order": null,
            "overflow": null,
            "overflow_x": null,
            "overflow_y": null,
            "padding": null,
            "right": null,
            "top": null,
            "visibility": null,
            "width": null
          }
        },
        "48f1bad3ffa64f63b4482ab830990b48": {
          "model_module": "@jupyter-widgets/controls",
          "model_name": "DescriptionStyleModel",
          "model_module_version": "1.5.0",
          "state": {
            "_model_module": "@jupyter-widgets/controls",
            "_model_module_version": "1.5.0",
            "_model_name": "DescriptionStyleModel",
            "_view_count": null,
            "_view_module": "@jupyter-widgets/base",
            "_view_module_version": "1.2.0",
            "_view_name": "StyleView",
            "description_width": ""
          }
        }
      }
    }
  },
  "nbformat": 4,
  "nbformat_minor": 0
}